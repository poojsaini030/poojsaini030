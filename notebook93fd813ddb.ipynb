{
 "cells": [
  {
   "cell_type": "code",
   "execution_count": 1,
   "id": "2e9937ca",
   "metadata": {
    "_cell_guid": "b1076dfc-b9ad-4769-8c92-a6c4dae69d19",
    "_uuid": "8f2839f25d086af736a60e9eeb907d3b93b6e0e5",
    "execution": {
     "iopub.execute_input": "2022-03-03T08:16:22.583540Z",
     "iopub.status.busy": "2022-03-03T08:16:22.581729Z",
     "iopub.status.idle": "2022-03-03T08:16:22.601781Z",
     "shell.execute_reply": "2022-03-03T08:16:22.602963Z",
     "shell.execute_reply.started": "2022-03-03T07:33:15.252688Z"
    },
    "papermill": {
     "duration": 0.05779,
     "end_time": "2022-03-03T08:16:22.603478",
     "exception": false,
     "start_time": "2022-03-03T08:16:22.545688",
     "status": "completed"
    },
    "tags": []
   },
   "outputs": [
    {
     "name": "stdout",
     "output_type": "stream",
     "text": [
      "/kaggle/input/shark-tank-india-companies/dataset.csv\n"
     ]
    }
   ],
   "source": [
    "# This Python 3 environment comes with many helpful analytics libraries installed\n",
    "# It is defined by the kaggle/python Docker image: https://github.com/kaggle/docker-python\n",
    "# For example, here's several helpful packages to load\n",
    "\n",
    "import numpy as np # linear algebra\n",
    "import pandas as pd # data processing, CSV file I/O (e.g. pd.read_csv)\n",
    "\n",
    "# Input data files are available in the read-only \"../input/\" directory\n",
    "# For example, running this (by clicking run or pressing Shift+Enter) will list all files under the input directory\n",
    "\n",
    "import os\n",
    "for dirname, _, filenames in os.walk('/kaggle/input'):\n",
    "    for filename in filenames:\n",
    "        print(os.path.join(dirname, filename))\n",
    "\n",
    "# You can write up to 20GB to the current directory (/kaggle/working/) that gets preserved as output when you create a version using \"Save & Run All\" \n",
    "# You can also write temporary files to /kaggle/temp/, but they won't be saved outside of the current session"
   ]
  },
  {
   "cell_type": "code",
   "execution_count": 2,
   "id": "2bf9eddd",
   "metadata": {
    "execution": {
     "iopub.execute_input": "2022-03-03T08:16:22.671138Z",
     "iopub.status.busy": "2022-03-03T08:16:22.670407Z",
     "iopub.status.idle": "2022-03-03T08:16:22.700404Z",
     "shell.execute_reply": "2022-03-03T08:16:22.700935Z",
     "shell.execute_reply.started": "2022-03-03T07:33:15.268999Z"
    },
    "papermill": {
     "duration": 0.065942,
     "end_time": "2022-03-03T08:16:22.701122",
     "exception": false,
     "start_time": "2022-03-03T08:16:22.635180",
     "status": "completed"
    },
    "tags": []
   },
   "outputs": [
    {
     "data": {
      "text/html": [
       "<div>\n",
       "<style scoped>\n",
       "    .dataframe tbody tr th:only-of-type {\n",
       "        vertical-align: middle;\n",
       "    }\n",
       "\n",
       "    .dataframe tbody tr th {\n",
       "        vertical-align: top;\n",
       "    }\n",
       "\n",
       "    .dataframe thead th {\n",
       "        text-align: right;\n",
       "    }\n",
       "</style>\n",
       "<table border=\"1\" class=\"dataframe\">\n",
       "  <thead>\n",
       "    <tr style=\"text-align: right;\">\n",
       "      <th></th>\n",
       "      <th>episode</th>\n",
       "      <th>pitch_no</th>\n",
       "      <th>company</th>\n",
       "      <th>idea</th>\n",
       "      <th>deal</th>\n",
       "      <th>ashneer</th>\n",
       "      <th>namita</th>\n",
       "      <th>anupam</th>\n",
       "      <th>vineeta</th>\n",
       "      <th>aman</th>\n",
       "      <th>peyush</th>\n",
       "      <th>ghazal</th>\n",
       "    </tr>\n",
       "  </thead>\n",
       "  <tbody>\n",
       "    <tr>\n",
       "      <th>0</th>\n",
       "      <td>1</td>\n",
       "      <td>1</td>\n",
       "      <td>BluePine Industries</td>\n",
       "      <td>Frozen Momos</td>\n",
       "      <td>75 lakhs for 18% equity</td>\n",
       "      <td>Y</td>\n",
       "      <td>N</td>\n",
       "      <td>N</td>\n",
       "      <td>Y</td>\n",
       "      <td>Y</td>\n",
       "      <td>NaN</td>\n",
       "      <td>NaN</td>\n",
       "    </tr>\n",
       "    <tr>\n",
       "      <th>1</th>\n",
       "      <td>1</td>\n",
       "      <td>2</td>\n",
       "      <td>Booz scooters</td>\n",
       "      <td>Renting e-bike for mobility in private spaces</td>\n",
       "      <td>40 lakhs for 50% equity</td>\n",
       "      <td>Y</td>\n",
       "      <td>N</td>\n",
       "      <td>N</td>\n",
       "      <td>Y</td>\n",
       "      <td>N</td>\n",
       "      <td>NaN</td>\n",
       "      <td>NaN</td>\n",
       "    </tr>\n",
       "    <tr>\n",
       "      <th>2</th>\n",
       "      <td>1</td>\n",
       "      <td>3</td>\n",
       "      <td>Heart up my Sleeves</td>\n",
       "      <td>Detachable Sleeves</td>\n",
       "      <td>25 lakhs for 30% equity</td>\n",
       "      <td>N</td>\n",
       "      <td>N</td>\n",
       "      <td>Y</td>\n",
       "      <td>Y</td>\n",
       "      <td>N</td>\n",
       "      <td>NaN</td>\n",
       "      <td>NaN</td>\n",
       "    </tr>\n",
       "    <tr>\n",
       "      <th>3</th>\n",
       "      <td>2</td>\n",
       "      <td>4</td>\n",
       "      <td>Tagz Foods</td>\n",
       "      <td>Healthy Potato Chips</td>\n",
       "      <td>No Deal</td>\n",
       "      <td>Y</td>\n",
       "      <td>N</td>\n",
       "      <td>N</td>\n",
       "      <td>N</td>\n",
       "      <td>N</td>\n",
       "      <td>NaN</td>\n",
       "      <td>NaN</td>\n",
       "    </tr>\n",
       "    <tr>\n",
       "      <th>4</th>\n",
       "      <td>2</td>\n",
       "      <td>5</td>\n",
       "      <td>Head and Heart</td>\n",
       "      <td>Brain Development Course</td>\n",
       "      <td>No Deal</td>\n",
       "      <td>N</td>\n",
       "      <td>N</td>\n",
       "      <td>N</td>\n",
       "      <td>N</td>\n",
       "      <td>N</td>\n",
       "      <td>NaN</td>\n",
       "      <td>NaN</td>\n",
       "    </tr>\n",
       "  </tbody>\n",
       "</table>\n",
       "</div>"
      ],
      "text/plain": [
       "   episode  pitch_no              company  \\\n",
       "0        1         1  BluePine Industries   \n",
       "1        1         2        Booz scooters   \n",
       "2        1         3  Heart up my Sleeves   \n",
       "3        2         4           Tagz Foods   \n",
       "4        2         5       Head and Heart   \n",
       "\n",
       "                                            idea                     deal  \\\n",
       "0                                   Frozen Momos  75 lakhs for 18% equity   \n",
       "1  Renting e-bike for mobility in private spaces  40 lakhs for 50% equity   \n",
       "2                             Detachable Sleeves  25 lakhs for 30% equity   \n",
       "3                           Healthy Potato Chips                  No Deal   \n",
       "4                       Brain Development Course                  No Deal   \n",
       "\n",
       "  ashneer namita anupam vineeta aman peyush ghazal  \n",
       "0       Y      N      N       Y    Y    NaN    NaN  \n",
       "1       Y      N      N       Y    N    NaN    NaN  \n",
       "2       N      N      Y       Y    N    NaN    NaN  \n",
       "3       Y      N      N       N    N    NaN    NaN  \n",
       "4       N      N      N       N    N    NaN    NaN  "
      ]
     },
     "execution_count": 2,
     "metadata": {},
     "output_type": "execute_result"
    }
   ],
   "source": [
    "dataframe = pd.read_csv('/kaggle/input/shark-tank-india-companies/dataset.csv')\n",
    "dataframe.head()"
   ]
  },
  {
   "cell_type": "code",
   "execution_count": 3,
   "id": "8807e4d3",
   "metadata": {
    "execution": {
     "iopub.execute_input": "2022-03-03T08:16:22.769061Z",
     "iopub.status.busy": "2022-03-03T08:16:22.768379Z",
     "iopub.status.idle": "2022-03-03T08:16:22.770945Z",
     "shell.execute_reply": "2022-03-03T08:16:22.771424Z",
     "shell.execute_reply.started": "2022-03-03T07:33:15.307089Z"
    },
    "papermill": {
     "duration": 0.039155,
     "end_time": "2022-03-03T08:16:22.771587",
     "exception": false,
     "start_time": "2022-03-03T08:16:22.732432",
     "status": "completed"
    },
    "tags": []
   },
   "outputs": [
    {
     "data": {
      "text/plain": [
       "(117, 12)"
      ]
     },
     "execution_count": 3,
     "metadata": {},
     "output_type": "execute_result"
    }
   ],
   "source": [
    "dataframe.shape"
   ]
  },
  {
   "cell_type": "code",
   "execution_count": 4,
   "id": "a46bff7b",
   "metadata": {
    "execution": {
     "iopub.execute_input": "2022-03-03T08:16:22.837872Z",
     "iopub.status.busy": "2022-03-03T08:16:22.837215Z",
     "iopub.status.idle": "2022-03-03T08:16:22.843509Z",
     "shell.execute_reply": "2022-03-03T08:16:22.844070Z",
     "shell.execute_reply.started": "2022-03-03T07:33:15.317262Z"
    },
    "papermill": {
     "duration": 0.0411,
     "end_time": "2022-03-03T08:16:22.844252",
     "exception": false,
     "start_time": "2022-03-03T08:16:22.803152",
     "status": "completed"
    },
    "tags": []
   },
   "outputs": [
    {
     "data": {
      "text/plain": [
       "episode      int64\n",
       "pitch_no     int64\n",
       "company     object\n",
       "idea        object\n",
       "deal        object\n",
       "ashneer     object\n",
       "namita      object\n",
       "anupam      object\n",
       "vineeta     object\n",
       "aman        object\n",
       "peyush      object\n",
       "ghazal      object\n",
       "dtype: object"
      ]
     },
     "execution_count": 4,
     "metadata": {},
     "output_type": "execute_result"
    }
   ],
   "source": [
    "dataframe.dtypes"
   ]
  },
  {
   "cell_type": "code",
   "execution_count": 5,
   "id": "7db40f12",
   "metadata": {
    "execution": {
     "iopub.execute_input": "2022-03-03T08:16:22.913617Z",
     "iopub.status.busy": "2022-03-03T08:16:22.912618Z",
     "iopub.status.idle": "2022-03-03T08:16:22.949820Z",
     "shell.execute_reply": "2022-03-03T08:16:22.949277Z",
     "shell.execute_reply.started": "2022-03-03T07:33:15.330536Z"
    },
    "papermill": {
     "duration": 0.072555,
     "end_time": "2022-03-03T08:16:22.949992",
     "exception": false,
     "start_time": "2022-03-03T08:16:22.877437",
     "status": "completed"
    },
    "tags": []
   },
   "outputs": [
    {
     "data": {
      "text/html": [
       "<div>\n",
       "<style scoped>\n",
       "    .dataframe tbody tr th:only-of-type {\n",
       "        vertical-align: middle;\n",
       "    }\n",
       "\n",
       "    .dataframe tbody tr th {\n",
       "        vertical-align: top;\n",
       "    }\n",
       "\n",
       "    .dataframe thead th {\n",
       "        text-align: right;\n",
       "    }\n",
       "</style>\n",
       "<table border=\"1\" class=\"dataframe\">\n",
       "  <thead>\n",
       "    <tr style=\"text-align: right;\">\n",
       "      <th></th>\n",
       "      <th>company</th>\n",
       "      <th>idea</th>\n",
       "      <th>deal</th>\n",
       "      <th>ashneer</th>\n",
       "      <th>namita</th>\n",
       "      <th>anupam</th>\n",
       "      <th>vineeta</th>\n",
       "      <th>aman</th>\n",
       "      <th>peyush</th>\n",
       "      <th>ghazal</th>\n",
       "    </tr>\n",
       "  </thead>\n",
       "  <tbody>\n",
       "    <tr>\n",
       "      <th>count</th>\n",
       "      <td>117</td>\n",
       "      <td>117</td>\n",
       "      <td>117</td>\n",
       "      <td>98</td>\n",
       "      <td>106</td>\n",
       "      <td>117</td>\n",
       "      <td>66</td>\n",
       "      <td>98</td>\n",
       "      <td>88</td>\n",
       "      <td>26</td>\n",
       "    </tr>\n",
       "    <tr>\n",
       "      <th>unique</th>\n",
       "      <td>117</td>\n",
       "      <td>117</td>\n",
       "      <td>41</td>\n",
       "      <td>2</td>\n",
       "      <td>2</td>\n",
       "      <td>2</td>\n",
       "      <td>2</td>\n",
       "      <td>2</td>\n",
       "      <td>2</td>\n",
       "      <td>2</td>\n",
       "    </tr>\n",
       "    <tr>\n",
       "      <th>top</th>\n",
       "      <td>BluePine Industries</td>\n",
       "      <td>Frozen Momos</td>\n",
       "      <td>No Deal</td>\n",
       "      <td>N</td>\n",
       "      <td>N</td>\n",
       "      <td>N</td>\n",
       "      <td>N</td>\n",
       "      <td>N</td>\n",
       "      <td>N</td>\n",
       "      <td>N</td>\n",
       "    </tr>\n",
       "    <tr>\n",
       "      <th>freq</th>\n",
       "      <td>1</td>\n",
       "      <td>1</td>\n",
       "      <td>75</td>\n",
       "      <td>77</td>\n",
       "      <td>84</td>\n",
       "      <td>93</td>\n",
       "      <td>51</td>\n",
       "      <td>70</td>\n",
       "      <td>61</td>\n",
       "      <td>19</td>\n",
       "    </tr>\n",
       "  </tbody>\n",
       "</table>\n",
       "</div>"
      ],
      "text/plain": [
       "                    company          idea     deal ashneer namita anupam  \\\n",
       "count                   117           117      117      98    106    117   \n",
       "unique                  117           117       41       2      2      2   \n",
       "top     BluePine Industries  Frozen Momos  No Deal       N      N      N   \n",
       "freq                      1             1       75      77     84     93   \n",
       "\n",
       "       vineeta aman peyush ghazal  \n",
       "count       66   98     88     26  \n",
       "unique       2    2      2      2  \n",
       "top          N    N      N      N  \n",
       "freq        51   70     61     19  "
      ]
     },
     "execution_count": 5,
     "metadata": {},
     "output_type": "execute_result"
    }
   ],
   "source": [
    "dataframe.describe(include=\"object\")"
   ]
  },
  {
   "cell_type": "code",
   "execution_count": 6,
   "id": "839b2dda",
   "metadata": {
    "execution": {
     "iopub.execute_input": "2022-03-03T08:16:23.025448Z",
     "iopub.status.busy": "2022-03-03T08:16:23.024456Z",
     "iopub.status.idle": "2022-03-03T08:16:23.040150Z",
     "shell.execute_reply": "2022-03-03T08:16:23.040727Z",
     "shell.execute_reply.started": "2022-03-03T07:33:15.375597Z"
    },
    "papermill": {
     "duration": 0.057555,
     "end_time": "2022-03-03T08:16:23.040934",
     "exception": false,
     "start_time": "2022-03-03T08:16:22.983379",
     "status": "completed"
    },
    "tags": []
   },
   "outputs": [
    {
     "data": {
      "text/html": [
       "<div>\n",
       "<style scoped>\n",
       "    .dataframe tbody tr th:only-of-type {\n",
       "        vertical-align: middle;\n",
       "    }\n",
       "\n",
       "    .dataframe tbody tr th {\n",
       "        vertical-align: top;\n",
       "    }\n",
       "\n",
       "    .dataframe thead th {\n",
       "        text-align: right;\n",
       "    }\n",
       "</style>\n",
       "<table border=\"1\" class=\"dataframe\">\n",
       "  <thead>\n",
       "    <tr style=\"text-align: right;\">\n",
       "      <th></th>\n",
       "      <th>episode</th>\n",
       "      <th>pitch_no</th>\n",
       "    </tr>\n",
       "  </thead>\n",
       "  <tbody>\n",
       "    <tr>\n",
       "      <th>count</th>\n",
       "      <td>117.000000</td>\n",
       "      <td>117.000000</td>\n",
       "    </tr>\n",
       "    <tr>\n",
       "      <th>mean</th>\n",
       "      <td>18.735043</td>\n",
       "      <td>59.000000</td>\n",
       "    </tr>\n",
       "    <tr>\n",
       "      <th>std</th>\n",
       "      <td>10.070778</td>\n",
       "      <td>33.919021</td>\n",
       "    </tr>\n",
       "    <tr>\n",
       "      <th>min</th>\n",
       "      <td>1.000000</td>\n",
       "      <td>1.000000</td>\n",
       "    </tr>\n",
       "    <tr>\n",
       "      <th>25%</th>\n",
       "      <td>10.000000</td>\n",
       "      <td>30.000000</td>\n",
       "    </tr>\n",
       "    <tr>\n",
       "      <th>50%</th>\n",
       "      <td>19.000000</td>\n",
       "      <td>59.000000</td>\n",
       "    </tr>\n",
       "    <tr>\n",
       "      <th>75%</th>\n",
       "      <td>27.000000</td>\n",
       "      <td>88.000000</td>\n",
       "    </tr>\n",
       "    <tr>\n",
       "      <th>max</th>\n",
       "      <td>35.000000</td>\n",
       "      <td>117.000000</td>\n",
       "    </tr>\n",
       "  </tbody>\n",
       "</table>\n",
       "</div>"
      ],
      "text/plain": [
       "          episode    pitch_no\n",
       "count  117.000000  117.000000\n",
       "mean    18.735043   59.000000\n",
       "std     10.070778   33.919021\n",
       "min      1.000000    1.000000\n",
       "25%     10.000000   30.000000\n",
       "50%     19.000000   59.000000\n",
       "75%     27.000000   88.000000\n",
       "max     35.000000  117.000000"
      ]
     },
     "execution_count": 6,
     "metadata": {},
     "output_type": "execute_result"
    }
   ],
   "source": [
    "dataframe.describe()"
   ]
  },
  {
   "cell_type": "code",
   "execution_count": 7,
   "id": "5be4164e",
   "metadata": {
    "execution": {
     "iopub.execute_input": "2022-03-03T08:16:23.111915Z",
     "iopub.status.busy": "2022-03-03T08:16:23.110898Z",
     "iopub.status.idle": "2022-03-03T08:16:23.116229Z",
     "shell.execute_reply": "2022-03-03T08:16:23.116831Z",
     "shell.execute_reply.started": "2022-03-03T07:33:15.395849Z"
    },
    "papermill": {
     "duration": 0.043087,
     "end_time": "2022-03-03T08:16:23.117030",
     "exception": false,
     "start_time": "2022-03-03T08:16:23.073943",
     "status": "completed"
    },
    "tags": []
   },
   "outputs": [],
   "source": [
    "dataframe.drop(columns = [\"deal\"],inplace = True)"
   ]
  },
  {
   "cell_type": "code",
   "execution_count": 8,
   "id": "da65557b",
   "metadata": {
    "execution": {
     "iopub.execute_input": "2022-03-03T08:16:23.188812Z",
     "iopub.status.busy": "2022-03-03T08:16:23.187819Z",
     "iopub.status.idle": "2022-03-03T08:16:23.202441Z",
     "shell.execute_reply": "2022-03-03T08:16:23.202981Z",
     "shell.execute_reply.started": "2022-03-03T07:33:15.401543Z"
    },
    "papermill": {
     "duration": 0.053191,
     "end_time": "2022-03-03T08:16:23.203160",
     "exception": false,
     "start_time": "2022-03-03T08:16:23.149969",
     "status": "completed"
    },
    "tags": []
   },
   "outputs": [
    {
     "data": {
      "text/plain": [
       "(117, 5)"
      ]
     },
     "execution_count": 8,
     "metadata": {},
     "output_type": "execute_result"
    }
   ],
   "source": [
    "for i in dataframe.columns:\n",
    "    if dataframe[i].isnull().sum()>=7:\n",
    "        dataframe.drop(columns= [i],inplace=True)\n",
    "dataframe.shape"
   ]
  },
  {
   "cell_type": "code",
   "execution_count": 9,
   "id": "eda80c77",
   "metadata": {
    "execution": {
     "iopub.execute_input": "2022-03-03T08:16:23.274811Z",
     "iopub.status.busy": "2022-03-03T08:16:23.272650Z",
     "iopub.status.idle": "2022-03-03T08:16:23.281162Z",
     "shell.execute_reply": "2022-03-03T08:16:23.281711Z",
     "shell.execute_reply.started": "2022-03-03T07:33:15.423509Z"
    },
    "papermill": {
     "duration": 0.04533,
     "end_time": "2022-03-03T08:16:23.281900",
     "exception": false,
     "start_time": "2022-03-03T08:16:23.236570",
     "status": "completed"
    },
    "tags": []
   },
   "outputs": [
    {
     "data": {
      "text/plain": [
       "Series([], dtype: int64)"
      ]
     },
     "execution_count": 9,
     "metadata": {},
     "output_type": "execute_result"
    }
   ],
   "source": [
    "dataframe.isna().sum()[40:50]"
   ]
  },
  {
   "cell_type": "code",
   "execution_count": 10,
   "id": "2f5bf482",
   "metadata": {
    "execution": {
     "iopub.execute_input": "2022-03-03T08:16:23.353524Z",
     "iopub.status.busy": "2022-03-03T08:16:23.352528Z",
     "iopub.status.idle": "2022-03-03T08:16:23.361653Z",
     "shell.execute_reply": "2022-03-03T08:16:23.362216Z",
     "shell.execute_reply.started": "2022-03-03T07:33:15.437290Z"
    },
    "papermill": {
     "duration": 0.046823,
     "end_time": "2022-03-03T08:16:23.362387",
     "exception": false,
     "start_time": "2022-03-03T08:16:23.315564",
     "status": "completed"
    },
    "tags": []
   },
   "outputs": [
    {
     "data": {
      "text/plain": [
       "(117, 5)"
      ]
     },
     "execution_count": 10,
     "metadata": {},
     "output_type": "execute_result"
    }
   ],
   "source": [
    "dataframe.dropna(axis=1, inplace=True)\n",
    "dataframe.shape"
   ]
  },
  {
   "cell_type": "code",
   "execution_count": 11,
   "id": "ebf1c69c",
   "metadata": {
    "execution": {
     "iopub.execute_input": "2022-03-03T08:16:23.435202Z",
     "iopub.status.busy": "2022-03-03T08:16:23.434166Z",
     "iopub.status.idle": "2022-03-03T08:16:23.443095Z",
     "shell.execute_reply": "2022-03-03T08:16:23.443635Z",
     "shell.execute_reply.started": "2022-03-03T07:33:15.449420Z"
    },
    "papermill": {
     "duration": 0.046975,
     "end_time": "2022-03-03T08:16:23.443801",
     "exception": false,
     "start_time": "2022-03-03T08:16:23.396826",
     "status": "completed"
    },
    "tags": []
   },
   "outputs": [
    {
     "data": {
      "text/plain": [
       "episode     0.0\n",
       "pitch_no    0.0\n",
       "company     0.0\n",
       "idea        0.0\n",
       "anupam      0.0\n",
       "dtype: float64"
      ]
     },
     "execution_count": 11,
     "metadata": {},
     "output_type": "execute_result"
    }
   ],
   "source": [
    "(dataframe.isnull().sum()/dataframe.shape[0])*100"
   ]
  },
  {
   "cell_type": "code",
   "execution_count": 12,
   "id": "f1ba7712",
   "metadata": {
    "execution": {
     "iopub.execute_input": "2022-03-03T08:16:23.516809Z",
     "iopub.status.busy": "2022-03-03T08:16:23.515857Z",
     "iopub.status.idle": "2022-03-03T08:16:23.522402Z",
     "shell.execute_reply": "2022-03-03T08:16:23.523002Z",
     "shell.execute_reply.started": "2022-03-03T07:33:15.460483Z"
    },
    "papermill": {
     "duration": 0.04509,
     "end_time": "2022-03-03T08:16:23.523180",
     "exception": false,
     "start_time": "2022-03-03T08:16:23.478090",
     "status": "completed"
    },
    "tags": []
   },
   "outputs": [
    {
     "data": {
      "text/plain": [
       "(array([], dtype=int64),)"
      ]
     },
     "execution_count": 12,
     "metadata": {},
     "output_type": "execute_result"
    }
   ],
   "source": [
    "np.where(dataframe[\"company\"].isnull()==True)"
   ]
  },
  {
   "cell_type": "code",
   "execution_count": 13,
   "id": "77af6373",
   "metadata": {
    "execution": {
     "iopub.execute_input": "2022-03-03T08:16:23.596773Z",
     "iopub.status.busy": "2022-03-03T08:16:23.595791Z",
     "iopub.status.idle": "2022-03-03T08:16:23.601095Z",
     "shell.execute_reply": "2022-03-03T08:16:23.601632Z",
     "shell.execute_reply.started": "2022-03-03T07:33:15.470535Z"
    },
    "papermill": {
     "duration": 0.043757,
     "end_time": "2022-03-03T08:16:23.601799",
     "exception": false,
     "start_time": "2022-03-03T08:16:23.558042",
     "status": "completed"
    },
    "tags": []
   },
   "outputs": [],
   "source": [
    "missing= dataframe.iloc[np.where(dataframe[\"company\"].isnull()==True)]"
   ]
  },
  {
   "cell_type": "code",
   "execution_count": 14,
   "id": "b3c50b7b",
   "metadata": {
    "execution": {
     "iopub.execute_input": "2022-03-03T08:16:23.675604Z",
     "iopub.status.busy": "2022-03-03T08:16:23.674616Z",
     "iopub.status.idle": "2022-03-03T08:16:23.681776Z",
     "shell.execute_reply": "2022-03-03T08:16:23.682335Z",
     "shell.execute_reply.started": "2022-03-03T07:33:15.483381Z"
    },
    "papermill": {
     "duration": 0.045878,
     "end_time": "2022-03-03T08:16:23.682509",
     "exception": false,
     "start_time": "2022-03-03T08:16:23.636631",
     "status": "completed"
    },
    "tags": []
   },
   "outputs": [
    {
     "data": {
      "text/plain": [
       "array(['Frozen Momos', 'Renting e-bike for mobility in private spaces',\n",
       "       'Detachable Sleeves', 'Healthy Potato Chips',\n",
       "       'Brain Development Course', 'Tourism', 'Food Freshness Detector',\n",
       "       'Disposable Urine Bag', 'Energy Drink', 'Intelligent Skincare',\n",
       "       'Pickle', 'Underwear', 'E-Bike',\n",
       "       'Restaurant serving 80 types of Maggi', 'Belly Button Shaper',\n",
       "       'Ice-Pops', 'Menstrual Awareness Comic',\n",
       "       'Pollution Resistant Fabric', 'Child Development App',\n",
       "       'Gadgets for visually impaired people',\n",
       "       'Kheer in variety of flavors', 'Kerala Banana Chips',\n",
       "       'Prickless Diabetes Testing Machine', 'Smart Electric Motorcycle',\n",
       "       'Smart Helmets', 'Wooden Toys', 'Healthy Oils',\n",
       "       'Male Intimate Hygiene', 'Eggs', 'Student Community App',\n",
       "       'Fiber Ice Cream', 'Wall Building', 'Customised Streetwear',\n",
       "       'Ayurvedic Products', 'Indian Sweets', 'Metaverse App',\n",
       "       'Braille Literary Device', 'Eco-Friendly boxes',\n",
       "       'Yarn-Trading App', 'Home Dialysis Treatment',\n",
       "       'Healthy Food Snacks', 'Digital Piggy Bank',\n",
       "       'Smart Audio Products', 'Robotics and Automation Solutions',\n",
       "       'Coconut based beverage franchise', 'Bamboo Products',\n",
       "       'Dog Hygiene', 'Liquid Water Enhancer', 'Healthy Snacks',\n",
       "       'Sneaker Resale', 'EdTech App', 'Premium Surprise-Planning',\n",
       "       'Pothole Detection Software and Data', 'Thin Crust Pizza',\n",
       "       'Hemp Food Products', 'Electric Auto Vehicle', 'Funeral Service',\n",
       "       'Leather-free Shoes', 'Livestock health monitoring AI',\n",
       "       'Customised Keto Diets for various medical issues',\n",
       "       'LPG Cylinder lock', 'Delicacies', 'Comics & Animation',\n",
       "       'Can Cocktails', 'Sugar-Free Icecream', 'Inventions',\n",
       "       'Customised Apparels', 'Natural Hair Extensions',\n",
       "       'Toilet Spray with Essential Oils', 'Meads', 'Fresh Fruits',\n",
       "       'Ayurvedic Enriched Food', 'Streetwear', 'Motorcycle Luggage',\n",
       "       'Bags', 'Gifts', 'Agricultural Innovations', 'Homemade Foods',\n",
       "       'Dog Products', 'Portable ECG Device', 'Roasted Peanut Products',\n",
       "       'Perfumes', 'Automatic Cradle', 'Handicrafts', 'Coffee Products',\n",
       "       'Ventilated PPE Kits', 'Automation Solutions',\n",
       "       'Insurance Solutions', 'Organic Milk Products', 'Kunafa',\n",
       "       'Anti-Suicidal Fan Rod', 'Jackfruit Products',\n",
       "       'Stainless Steel Items', 'Streaming Platform',\n",
       "       'Portable Glass Attachment', 'All-Kabaddi App', 'Flowers',\n",
       "       'Scholarship Platform', 'Handmade Reusable Scrap Materials',\n",
       "       'Vegetables Storage', 'Ayurvedic Wellness App', 'Smart Locks',\n",
       "       'Proposal Solutions', 'Technology layered advertisement services',\n",
       "       'Rewards App', 'Portable opthalmic devices', 'Insoles',\n",
       "       'Vegan Fermented Food', 'Sportswear', 'VR', 'Bacon Jams',\n",
       "       'Reversible and convertible clothing', 'Plant-Based Protein',\n",
       "       'Fastest Cooking Device', 'Lemonade', 'Washroom Finder',\n",
       "       'Carenting for Elders'], dtype=object)"
      ]
     },
     "execution_count": 14,
     "metadata": {},
     "output_type": "execute_result"
    }
   ],
   "source": [
    "dataframe[\"idea\"].unique()"
   ]
  },
  {
   "cell_type": "code",
   "execution_count": 15,
   "id": "e8596a2a",
   "metadata": {
    "execution": {
     "iopub.execute_input": "2022-03-03T08:16:23.757232Z",
     "iopub.status.busy": "2022-03-03T08:16:23.756236Z",
     "iopub.status.idle": "2022-03-03T08:16:23.766808Z",
     "shell.execute_reply": "2022-03-03T08:16:23.767406Z",
     "shell.execute_reply.started": "2022-03-03T07:33:15.494882Z"
    },
    "papermill": {
     "duration": 0.049823,
     "end_time": "2022-03-03T08:16:23.767580",
     "exception": false,
     "start_time": "2022-03-03T08:16:23.717757",
     "status": "completed"
    },
    "tags": []
   },
   "outputs": [
    {
     "data": {
      "text/html": [
       "<div>\n",
       "<style scoped>\n",
       "    .dataframe tbody tr th:only-of-type {\n",
       "        vertical-align: middle;\n",
       "    }\n",
       "\n",
       "    .dataframe tbody tr th {\n",
       "        vertical-align: top;\n",
       "    }\n",
       "\n",
       "    .dataframe thead th {\n",
       "        text-align: right;\n",
       "    }\n",
       "</style>\n",
       "<table border=\"1\" class=\"dataframe\">\n",
       "  <thead>\n",
       "    <tr style=\"text-align: right;\">\n",
       "      <th></th>\n",
       "      <th>episode</th>\n",
       "      <th>pitch_no</th>\n",
       "      <th>company</th>\n",
       "      <th>idea</th>\n",
       "      <th>anupam</th>\n",
       "    </tr>\n",
       "  </thead>\n",
       "  <tbody>\n",
       "    <tr>\n",
       "      <th>0</th>\n",
       "      <td>1</td>\n",
       "      <td>1</td>\n",
       "      <td>BluePine Industries</td>\n",
       "      <td>Frozen Momos</td>\n",
       "      <td>N</td>\n",
       "    </tr>\n",
       "    <tr>\n",
       "      <th>1</th>\n",
       "      <td>1</td>\n",
       "      <td>2</td>\n",
       "      <td>Booz scooters</td>\n",
       "      <td>Renting e-bike for mobility in private spaces</td>\n",
       "      <td>N</td>\n",
       "    </tr>\n",
       "    <tr>\n",
       "      <th>2</th>\n",
       "      <td>1</td>\n",
       "      <td>3</td>\n",
       "      <td>Heart up my Sleeves</td>\n",
       "      <td>Detachable Sleeves</td>\n",
       "      <td>Y</td>\n",
       "    </tr>\n",
       "    <tr>\n",
       "      <th>3</th>\n",
       "      <td>2</td>\n",
       "      <td>4</td>\n",
       "      <td>Tagz Foods</td>\n",
       "      <td>Healthy Potato Chips</td>\n",
       "      <td>N</td>\n",
       "    </tr>\n",
       "    <tr>\n",
       "      <th>4</th>\n",
       "      <td>2</td>\n",
       "      <td>5</td>\n",
       "      <td>Head and Heart</td>\n",
       "      <td>Brain Development Course</td>\n",
       "      <td>N</td>\n",
       "    </tr>\n",
       "  </tbody>\n",
       "</table>\n",
       "</div>"
      ],
      "text/plain": [
       "   episode  pitch_no              company  \\\n",
       "0        1         1  BluePine Industries   \n",
       "1        1         2        Booz scooters   \n",
       "2        1         3  Heart up my Sleeves   \n",
       "3        2         4           Tagz Foods   \n",
       "4        2         5       Head and Heart   \n",
       "\n",
       "                                            idea anupam  \n",
       "0                                   Frozen Momos      N  \n",
       "1  Renting e-bike for mobility in private spaces      N  \n",
       "2                             Detachable Sleeves      Y  \n",
       "3                           Healthy Potato Chips      N  \n",
       "4                       Brain Development Course      N  "
      ]
     },
     "execution_count": 15,
     "metadata": {},
     "output_type": "execute_result"
    }
   ],
   "source": [
    "dataframe.head()"
   ]
  },
  {
   "cell_type": "code",
   "execution_count": 16,
   "id": "2294888e",
   "metadata": {
    "execution": {
     "iopub.execute_input": "2022-03-03T08:16:23.843734Z",
     "iopub.status.busy": "2022-03-03T08:16:23.842749Z",
     "iopub.status.idle": "2022-03-03T08:16:23.858374Z",
     "shell.execute_reply": "2022-03-03T08:16:23.858932Z",
     "shell.execute_reply.started": "2022-03-03T07:33:45.072360Z"
    },
    "papermill": {
     "duration": 0.055609,
     "end_time": "2022-03-03T08:16:23.859115",
     "exception": false,
     "start_time": "2022-03-03T08:16:23.803506",
     "status": "completed"
    },
    "tags": []
   },
   "outputs": [
    {
     "data": {
      "text/html": [
       "<div>\n",
       "<style scoped>\n",
       "    .dataframe tbody tr th:only-of-type {\n",
       "        vertical-align: middle;\n",
       "    }\n",
       "\n",
       "    .dataframe tbody tr th {\n",
       "        vertical-align: top;\n",
       "    }\n",
       "\n",
       "    .dataframe thead th {\n",
       "        text-align: right;\n",
       "    }\n",
       "</style>\n",
       "<table border=\"1\" class=\"dataframe\">\n",
       "  <thead>\n",
       "    <tr style=\"text-align: right;\">\n",
       "      <th></th>\n",
       "      <th>episode</th>\n",
       "      <th>pitch_no</th>\n",
       "    </tr>\n",
       "  </thead>\n",
       "  <tbody>\n",
       "    <tr>\n",
       "      <th>count</th>\n",
       "      <td>117.000000</td>\n",
       "      <td>117.000000</td>\n",
       "    </tr>\n",
       "    <tr>\n",
       "      <th>mean</th>\n",
       "      <td>18.735043</td>\n",
       "      <td>59.000000</td>\n",
       "    </tr>\n",
       "    <tr>\n",
       "      <th>std</th>\n",
       "      <td>10.070778</td>\n",
       "      <td>33.919021</td>\n",
       "    </tr>\n",
       "    <tr>\n",
       "      <th>min</th>\n",
       "      <td>1.000000</td>\n",
       "      <td>1.000000</td>\n",
       "    </tr>\n",
       "    <tr>\n",
       "      <th>25%</th>\n",
       "      <td>10.000000</td>\n",
       "      <td>30.000000</td>\n",
       "    </tr>\n",
       "    <tr>\n",
       "      <th>50%</th>\n",
       "      <td>19.000000</td>\n",
       "      <td>59.000000</td>\n",
       "    </tr>\n",
       "    <tr>\n",
       "      <th>75%</th>\n",
       "      <td>27.000000</td>\n",
       "      <td>88.000000</td>\n",
       "    </tr>\n",
       "    <tr>\n",
       "      <th>max</th>\n",
       "      <td>35.000000</td>\n",
       "      <td>117.000000</td>\n",
       "    </tr>\n",
       "  </tbody>\n",
       "</table>\n",
       "</div>"
      ],
      "text/plain": [
       "          episode    pitch_no\n",
       "count  117.000000  117.000000\n",
       "mean    18.735043   59.000000\n",
       "std     10.070778   33.919021\n",
       "min      1.000000    1.000000\n",
       "25%     10.000000   30.000000\n",
       "50%     19.000000   59.000000\n",
       "75%     27.000000   88.000000\n",
       "max     35.000000  117.000000"
      ]
     },
     "execution_count": 16,
     "metadata": {},
     "output_type": "execute_result"
    }
   ],
   "source": [
    "dataframe.describe()"
   ]
  },
  {
   "cell_type": "code",
   "execution_count": 17,
   "id": "268149f1",
   "metadata": {
    "execution": {
     "iopub.execute_input": "2022-03-03T08:16:23.942276Z",
     "iopub.status.busy": "2022-03-03T08:16:23.941390Z",
     "iopub.status.idle": "2022-03-03T08:16:24.950321Z",
     "shell.execute_reply": "2022-03-03T08:16:24.949322Z",
     "shell.execute_reply.started": "2022-03-03T07:35:37.814377Z"
    },
    "papermill": {
     "duration": 1.050671,
     "end_time": "2022-03-03T08:16:24.950497",
     "exception": false,
     "start_time": "2022-03-03T08:16:23.899826",
     "status": "completed"
    },
    "tags": []
   },
   "outputs": [],
   "source": [
    "import seaborn as sns"
   ]
  },
  {
   "cell_type": "code",
   "execution_count": 18,
   "id": "e569560b",
   "metadata": {
    "execution": {
     "iopub.execute_input": "2022-03-03T08:16:25.028994Z",
     "iopub.status.busy": "2022-03-03T08:16:25.027954Z",
     "iopub.status.idle": "2022-03-03T08:16:25.050145Z",
     "shell.execute_reply": "2022-03-03T08:16:25.050694Z",
     "shell.execute_reply.started": "2022-03-03T07:53:32.154960Z"
    },
    "papermill": {
     "duration": 0.063373,
     "end_time": "2022-03-03T08:16:25.050883",
     "exception": false,
     "start_time": "2022-03-03T08:16:24.987510",
     "status": "completed"
    },
    "tags": []
   },
   "outputs": [
    {
     "data": {
      "text/html": [
       "<div>\n",
       "<style scoped>\n",
       "    .dataframe tbody tr th:only-of-type {\n",
       "        vertical-align: middle;\n",
       "    }\n",
       "\n",
       "    .dataframe tbody tr th {\n",
       "        vertical-align: top;\n",
       "    }\n",
       "\n",
       "    .dataframe thead th {\n",
       "        text-align: right;\n",
       "    }\n",
       "</style>\n",
       "<table border=\"1\" class=\"dataframe\">\n",
       "  <thead>\n",
       "    <tr style=\"text-align: right;\">\n",
       "      <th></th>\n",
       "      <th>max</th>\n",
       "      <th>min</th>\n",
       "      <th>mean</th>\n",
       "      <th>std</th>\n",
       "    </tr>\n",
       "    <tr>\n",
       "      <th>company</th>\n",
       "      <th></th>\n",
       "      <th></th>\n",
       "      <th></th>\n",
       "      <th></th>\n",
       "    </tr>\n",
       "  </thead>\n",
       "  <tbody>\n",
       "    <tr>\n",
       "      <th>ARRCOAT Surface Textures</th>\n",
       "      <td>11</td>\n",
       "      <td>11</td>\n",
       "      <td>11.0</td>\n",
       "      <td>NaN</td>\n",
       "    </tr>\n",
       "    <tr>\n",
       "      <th>Aas Vidyalaya</th>\n",
       "      <td>17</td>\n",
       "      <td>17</td>\n",
       "      <td>17.0</td>\n",
       "      <td>NaN</td>\n",
       "    </tr>\n",
       "    <tr>\n",
       "      <th>Agro tourism</th>\n",
       "      <td>2</td>\n",
       "      <td>2</td>\n",
       "      <td>2.0</td>\n",
       "      <td>NaN</td>\n",
       "    </tr>\n",
       "    <tr>\n",
       "      <th>Aliste Technologies</th>\n",
       "      <td>27</td>\n",
       "      <td>27</td>\n",
       "      <td>27.0</td>\n",
       "      <td>NaN</td>\n",
       "    </tr>\n",
       "    <tr>\n",
       "      <th>Alpino</th>\n",
       "      <td>25</td>\n",
       "      <td>25</td>\n",
       "      <td>25.0</td>\n",
       "      <td>NaN</td>\n",
       "    </tr>\n",
       "    <tr>\n",
       "      <th>...</th>\n",
       "      <td>...</td>\n",
       "      <td>...</td>\n",
       "      <td>...</td>\n",
       "      <td>...</td>\n",
       "    </tr>\n",
       "    <tr>\n",
       "      <th>Vivalyf Innovations- Easy Life</th>\n",
       "      <td>8</td>\n",
       "      <td>8</td>\n",
       "      <td>8.0</td>\n",
       "      <td>NaN</td>\n",
       "    </tr>\n",
       "    <tr>\n",
       "      <th>Wakao Foods</th>\n",
       "      <td>29</td>\n",
       "      <td>29</td>\n",
       "      <td>29.0</td>\n",
       "      <td>NaN</td>\n",
       "    </tr>\n",
       "    <tr>\n",
       "      <th>Watt Technovations</th>\n",
       "      <td>27</td>\n",
       "      <td>27</td>\n",
       "      <td>27.0</td>\n",
       "      <td>NaN</td>\n",
       "    </tr>\n",
       "    <tr>\n",
       "      <th>WeSTOCK</th>\n",
       "      <td>19</td>\n",
       "      <td>19</td>\n",
       "      <td>19.0</td>\n",
       "      <td>NaN</td>\n",
       "    </tr>\n",
       "    <tr>\n",
       "      <th>Woloo</th>\n",
       "      <td>35</td>\n",
       "      <td>35</td>\n",
       "      <td>35.0</td>\n",
       "      <td>NaN</td>\n",
       "    </tr>\n",
       "  </tbody>\n",
       "</table>\n",
       "<p>117 rows × 4 columns</p>\n",
       "</div>"
      ],
      "text/plain": [
       "                                max  min  mean  std\n",
       "company                                            \n",
       "ARRCOAT Surface Textures         11   11  11.0  NaN\n",
       "Aas Vidyalaya                    17   17  17.0  NaN\n",
       "Agro tourism                      2    2   2.0  NaN\n",
       "Aliste Technologies              27   27  27.0  NaN\n",
       "Alpino                           25   25  25.0  NaN\n",
       "...                             ...  ...   ...  ...\n",
       "Vivalyf Innovations- Easy Life    8    8   8.0  NaN\n",
       "Wakao Foods                      29   29  29.0  NaN\n",
       "Watt Technovations               27   27  27.0  NaN\n",
       "WeSTOCK                          19   19  19.0  NaN\n",
       "Woloo                            35   35  35.0  NaN\n",
       "\n",
       "[117 rows x 4 columns]"
      ]
     },
     "execution_count": 18,
     "metadata": {},
     "output_type": "execute_result"
    }
   ],
   "source": [
    "dataframe.groupby([\"company\"])[\"episode\"].agg([\"max\",\"min\",\"mean\",\"std\"])"
   ]
  },
  {
   "cell_type": "markdown",
   "id": "049f5923",
   "metadata": {
    "papermill": {
     "duration": 0.036955,
     "end_time": "2022-03-03T08:16:25.125124",
     "exception": false,
     "start_time": "2022-03-03T08:16:25.088169",
     "status": "completed"
    },
    "tags": []
   },
   "source": []
  },
  {
   "cell_type": "code",
   "execution_count": 19,
   "id": "cafa1c84",
   "metadata": {
    "execution": {
     "iopub.execute_input": "2022-03-03T08:16:25.203594Z",
     "iopub.status.busy": "2022-03-03T08:16:25.202561Z",
     "iopub.status.idle": "2022-03-03T08:16:25.216457Z",
     "shell.execute_reply": "2022-03-03T08:16:25.217025Z",
     "shell.execute_reply.started": "2022-03-03T07:47:58.689813Z"
    },
    "papermill": {
     "duration": 0.054911,
     "end_time": "2022-03-03T08:16:25.217202",
     "exception": false,
     "start_time": "2022-03-03T08:16:25.162291",
     "status": "completed"
    },
    "tags": []
   },
   "outputs": [
    {
     "data": {
      "text/plain": [
       "company                         idea                                pitch_no\n",
       "ARRCOAT Surface Textures        Wall Building                       32          1\n",
       "Aas Vidyalaya                   EdTech App                          51          1\n",
       "Agro tourism                    Tourism                             6           1\n",
       "Aliste Technologies             Automation Solutions                87          1\n",
       "Alpino                          Roasted Peanut Products             81          1\n",
       "                                                                               ..\n",
       "Vivalyf Innovations- Easy Life  Prickless Diabetes Testing Machine  23          1\n",
       "Wakao Foods                     Jackfruit Products                  92          1\n",
       "Watt Technovations              Ventilated PPE Kits                 86          1\n",
       "WeSTOCK                         Livestock health monitoring AI      59          1\n",
       "Woloo                           Washroom Finder                     116         1\n",
       "Name: pitch_no, Length: 117, dtype: int64"
      ]
     },
     "execution_count": 19,
     "metadata": {},
     "output_type": "execute_result"
    }
   ],
   "source": [
    "dataframe.groupby([\"company\",\"idea\"])[\"pitch_no\"].value_counts()"
   ]
  },
  {
   "cell_type": "code",
   "execution_count": 20,
   "id": "879794c7",
   "metadata": {
    "execution": {
     "iopub.execute_input": "2022-03-03T08:16:25.297356Z",
     "iopub.status.busy": "2022-03-03T08:16:25.296354Z",
     "iopub.status.idle": "2022-03-03T08:16:25.308001Z",
     "shell.execute_reply": "2022-03-03T08:16:25.308463Z",
     "shell.execute_reply.started": "2022-03-03T07:49:41.455513Z"
    },
    "papermill": {
     "duration": 0.05345,
     "end_time": "2022-03-03T08:16:25.308640",
     "exception": false,
     "start_time": "2022-03-03T08:16:25.255190",
     "status": "completed"
    },
    "tags": []
   },
   "outputs": [
    {
     "data": {
      "text/plain": [
       "company                         episode  pitch_no\n",
       "ARRCOAT Surface Textures        11       32          1\n",
       "Aas Vidyalaya                   17       51          1\n",
       "Agro tourism                    2        6           1\n",
       "Aliste Technologies             27       87          1\n",
       "Alpino                          25       81          1\n",
       "                                                    ..\n",
       "Vivalyf Innovations- Easy Life  8        23          1\n",
       "Wakao Foods                     29       92          1\n",
       "Watt Technovations              27       86          1\n",
       "WeSTOCK                         19       59          1\n",
       "Woloo                           35       116         1\n",
       "Name: pitch_no, Length: 117, dtype: int64"
      ]
     },
     "execution_count": 20,
     "metadata": {},
     "output_type": "execute_result"
    }
   ],
   "source": [
    "dataframe.groupby([\"company\",\"episode\"])[\"pitch_no\"].value_counts()"
   ]
  },
  {
   "cell_type": "code",
   "execution_count": 21,
   "id": "a22c14bc",
   "metadata": {
    "execution": {
     "iopub.execute_input": "2022-03-03T08:16:25.391779Z",
     "iopub.status.busy": "2022-03-03T08:16:25.390763Z",
     "iopub.status.idle": "2022-03-03T08:16:25.400072Z",
     "shell.execute_reply": "2022-03-03T08:16:25.400563Z",
     "shell.execute_reply.started": "2022-03-03T07:52:57.125384Z"
    },
    "papermill": {
     "duration": 0.054213,
     "end_time": "2022-03-03T08:16:25.400733",
     "exception": false,
     "start_time": "2022-03-03T08:16:25.346520",
     "status": "completed"
    },
    "tags": []
   },
   "outputs": [
    {
     "data": {
      "text/plain": [
       "company                         episode  anupam\n",
       "ARRCOAT Surface Textures        11       Y         1\n",
       "Aas Vidyalaya                   17       N         1\n",
       "Agro tourism                    2        N         1\n",
       "Aliste Technologies             27       N         1\n",
       "Alpino                          25       N         1\n",
       "                                                  ..\n",
       "Vivalyf Innovations- Easy Life  8        Y         1\n",
       "Wakao Foods                     29       N         1\n",
       "Watt Technovations              27       Y         1\n",
       "WeSTOCK                         19       N         1\n",
       "Woloo                           35       N         1\n",
       "Name: anupam, Length: 117, dtype: int64"
      ]
     },
     "execution_count": 21,
     "metadata": {},
     "output_type": "execute_result"
    }
   ],
   "source": [
    "dataframe.groupby([\"company\",\"episode\"])[\"anupam\"].value_counts()"
   ]
  },
  {
   "cell_type": "code",
   "execution_count": 22,
   "id": "329fba2c",
   "metadata": {
    "execution": {
     "iopub.execute_input": "2022-03-03T08:16:25.483097Z",
     "iopub.status.busy": "2022-03-03T08:16:25.482352Z",
     "iopub.status.idle": "2022-03-03T08:16:25.485006Z",
     "shell.execute_reply": "2022-03-03T08:16:25.484516Z",
     "shell.execute_reply.started": "2022-03-03T07:59:18.360956Z"
    },
    "papermill": {
     "duration": 0.045293,
     "end_time": "2022-03-03T08:16:25.485154",
     "exception": false,
     "start_time": "2022-03-03T08:16:25.439861",
     "status": "completed"
    },
    "tags": []
   },
   "outputs": [],
   "source": [
    "import numpy as np\n",
    "import pandas as pd"
   ]
  },
  {
   "cell_type": "code",
   "execution_count": 23,
   "id": "d8978573",
   "metadata": {
    "execution": {
     "iopub.execute_input": "2022-03-03T08:16:25.568774Z",
     "iopub.status.busy": "2022-03-03T08:16:25.568023Z",
     "iopub.status.idle": "2022-03-03T08:16:25.571584Z",
     "shell.execute_reply": "2022-03-03T08:16:25.571066Z",
     "shell.execute_reply.started": "2022-03-03T08:00:59.839216Z"
    },
    "papermill": {
     "duration": 0.048157,
     "end_time": "2022-03-03T08:16:25.571717",
     "exception": false,
     "start_time": "2022-03-03T08:16:25.523560",
     "status": "completed"
    },
    "tags": []
   },
   "outputs": [
    {
     "data": {
      "text/plain": [
       "(array([], dtype=int64),)"
      ]
     },
     "execution_count": 23,
     "metadata": {},
     "output_type": "execute_result"
    }
   ],
   "source": [
    "np.where(dataframe[\"pitch_no\"].isnull()==True)"
   ]
  },
  {
   "cell_type": "code",
   "execution_count": 24,
   "id": "38e5e28c",
   "metadata": {
    "execution": {
     "iopub.execute_input": "2022-03-03T08:16:25.667135Z",
     "iopub.status.busy": "2022-03-03T08:16:25.666451Z",
     "iopub.status.idle": "2022-03-03T08:16:25.669171Z",
     "shell.execute_reply": "2022-03-03T08:16:25.669644Z",
     "shell.execute_reply.started": "2022-03-03T08:01:36.971314Z"
    },
    "papermill": {
     "duration": 0.059056,
     "end_time": "2022-03-03T08:16:25.669813",
     "exception": false,
     "start_time": "2022-03-03T08:16:25.610757",
     "status": "completed"
    },
    "tags": []
   },
   "outputs": [
    {
     "data": {
      "text/html": [
       "<div>\n",
       "<style scoped>\n",
       "    .dataframe tbody tr th:only-of-type {\n",
       "        vertical-align: middle;\n",
       "    }\n",
       "\n",
       "    .dataframe tbody tr th {\n",
       "        vertical-align: top;\n",
       "    }\n",
       "\n",
       "    .dataframe thead th {\n",
       "        text-align: right;\n",
       "    }\n",
       "</style>\n",
       "<table border=\"1\" class=\"dataframe\">\n",
       "  <thead>\n",
       "    <tr style=\"text-align: right;\">\n",
       "      <th></th>\n",
       "      <th>episode</th>\n",
       "      <th>pitch_no</th>\n",
       "      <th>company</th>\n",
       "      <th>idea</th>\n",
       "      <th>anupam</th>\n",
       "    </tr>\n",
       "  </thead>\n",
       "  <tbody>\n",
       "    <tr>\n",
       "      <th>0</th>\n",
       "      <td>NaN</td>\n",
       "      <td>NaN</td>\n",
       "      <td>NaN</td>\n",
       "      <td>NaN</td>\n",
       "      <td>NaN</td>\n",
       "    </tr>\n",
       "    <tr>\n",
       "      <th>1</th>\n",
       "      <td>NaN</td>\n",
       "      <td>NaN</td>\n",
       "      <td>NaN</td>\n",
       "      <td>NaN</td>\n",
       "      <td>NaN</td>\n",
       "    </tr>\n",
       "    <tr>\n",
       "      <th>2</th>\n",
       "      <td>NaN</td>\n",
       "      <td>NaN</td>\n",
       "      <td>NaN</td>\n",
       "      <td>NaN</td>\n",
       "      <td>NaN</td>\n",
       "    </tr>\n",
       "    <tr>\n",
       "      <th>3</th>\n",
       "      <td>NaN</td>\n",
       "      <td>NaN</td>\n",
       "      <td>NaN</td>\n",
       "      <td>NaN</td>\n",
       "      <td>NaN</td>\n",
       "    </tr>\n",
       "    <tr>\n",
       "      <th>4</th>\n",
       "      <td>NaN</td>\n",
       "      <td>NaN</td>\n",
       "      <td>NaN</td>\n",
       "      <td>NaN</td>\n",
       "      <td>NaN</td>\n",
       "    </tr>\n",
       "    <tr>\n",
       "      <th>...</th>\n",
       "      <td>...</td>\n",
       "      <td>...</td>\n",
       "      <td>...</td>\n",
       "      <td>...</td>\n",
       "      <td>...</td>\n",
       "    </tr>\n",
       "    <tr>\n",
       "      <th>112</th>\n",
       "      <td>NaN</td>\n",
       "      <td>NaN</td>\n",
       "      <td>NaN</td>\n",
       "      <td>NaN</td>\n",
       "      <td>NaN</td>\n",
       "    </tr>\n",
       "    <tr>\n",
       "      <th>113</th>\n",
       "      <td>NaN</td>\n",
       "      <td>NaN</td>\n",
       "      <td>NaN</td>\n",
       "      <td>NaN</td>\n",
       "      <td>NaN</td>\n",
       "    </tr>\n",
       "    <tr>\n",
       "      <th>114</th>\n",
       "      <td>NaN</td>\n",
       "      <td>NaN</td>\n",
       "      <td>NaN</td>\n",
       "      <td>NaN</td>\n",
       "      <td>NaN</td>\n",
       "    </tr>\n",
       "    <tr>\n",
       "      <th>115</th>\n",
       "      <td>NaN</td>\n",
       "      <td>NaN</td>\n",
       "      <td>NaN</td>\n",
       "      <td>NaN</td>\n",
       "      <td>NaN</td>\n",
       "    </tr>\n",
       "    <tr>\n",
       "      <th>116</th>\n",
       "      <td>NaN</td>\n",
       "      <td>NaN</td>\n",
       "      <td>NaN</td>\n",
       "      <td>NaN</td>\n",
       "      <td>NaN</td>\n",
       "    </tr>\n",
       "  </tbody>\n",
       "</table>\n",
       "<p>117 rows × 5 columns</p>\n",
       "</div>"
      ],
      "text/plain": [
       "     episode  pitch_no company idea anupam\n",
       "0        NaN       NaN     NaN  NaN    NaN\n",
       "1        NaN       NaN     NaN  NaN    NaN\n",
       "2        NaN       NaN     NaN  NaN    NaN\n",
       "3        NaN       NaN     NaN  NaN    NaN\n",
       "4        NaN       NaN     NaN  NaN    NaN\n",
       "..       ...       ...     ...  ...    ...\n",
       "112      NaN       NaN     NaN  NaN    NaN\n",
       "113      NaN       NaN     NaN  NaN    NaN\n",
       "114      NaN       NaN     NaN  NaN    NaN\n",
       "115      NaN       NaN     NaN  NaN    NaN\n",
       "116      NaN       NaN     NaN  NaN    NaN\n",
       "\n",
       "[117 rows x 5 columns]"
      ]
     },
     "execution_count": 24,
     "metadata": {},
     "output_type": "execute_result"
    }
   ],
   "source": [
    "dataframe[dataframe.isna()==True]"
   ]
  },
  {
   "cell_type": "code",
   "execution_count": 25,
   "id": "efcb9636",
   "metadata": {
    "execution": {
     "iopub.execute_input": "2022-03-03T08:16:25.754336Z",
     "iopub.status.busy": "2022-03-03T08:16:25.753261Z",
     "iopub.status.idle": "2022-03-03T08:16:25.764128Z",
     "shell.execute_reply": "2022-03-03T08:16:25.764637Z",
     "shell.execute_reply.started": "2022-03-03T08:02:02.171141Z"
    },
    "papermill": {
     "duration": 0.055125,
     "end_time": "2022-03-03T08:16:25.764808",
     "exception": false,
     "start_time": "2022-03-03T08:16:25.709683",
     "status": "completed"
    },
    "tags": []
   },
   "outputs": [
    {
     "data": {
      "text/html": [
       "<div>\n",
       "<style scoped>\n",
       "    .dataframe tbody tr th:only-of-type {\n",
       "        vertical-align: middle;\n",
       "    }\n",
       "\n",
       "    .dataframe tbody tr th {\n",
       "        vertical-align: top;\n",
       "    }\n",
       "\n",
       "    .dataframe thead th {\n",
       "        text-align: right;\n",
       "    }\n",
       "</style>\n",
       "<table border=\"1\" class=\"dataframe\">\n",
       "  <thead>\n",
       "    <tr style=\"text-align: right;\">\n",
       "      <th></th>\n",
       "      <th>episode</th>\n",
       "      <th>pitch_no</th>\n",
       "      <th>company</th>\n",
       "      <th>idea</th>\n",
       "      <th>anupam</th>\n",
       "    </tr>\n",
       "  </thead>\n",
       "  <tbody>\n",
       "    <tr>\n",
       "      <th>0</th>\n",
       "      <td>1</td>\n",
       "      <td>1</td>\n",
       "      <td>BluePine Industries</td>\n",
       "      <td>Frozen Momos</td>\n",
       "      <td>N</td>\n",
       "    </tr>\n",
       "    <tr>\n",
       "      <th>1</th>\n",
       "      <td>1</td>\n",
       "      <td>2</td>\n",
       "      <td>Booz scooters</td>\n",
       "      <td>Renting e-bike for mobility in private spaces</td>\n",
       "      <td>N</td>\n",
       "    </tr>\n",
       "    <tr>\n",
       "      <th>2</th>\n",
       "      <td>1</td>\n",
       "      <td>3</td>\n",
       "      <td>Heart up my Sleeves</td>\n",
       "      <td>Detachable Sleeves</td>\n",
       "      <td>Y</td>\n",
       "    </tr>\n",
       "    <tr>\n",
       "      <th>3</th>\n",
       "      <td>2</td>\n",
       "      <td>4</td>\n",
       "      <td>Tagz Foods</td>\n",
       "      <td>Healthy Potato Chips</td>\n",
       "      <td>N</td>\n",
       "    </tr>\n",
       "    <tr>\n",
       "      <th>4</th>\n",
       "      <td>2</td>\n",
       "      <td>5</td>\n",
       "      <td>Head and Heart</td>\n",
       "      <td>Brain Development Course</td>\n",
       "      <td>N</td>\n",
       "    </tr>\n",
       "  </tbody>\n",
       "</table>\n",
       "</div>"
      ],
      "text/plain": [
       "   episode  pitch_no              company  \\\n",
       "0        1         1  BluePine Industries   \n",
       "1        1         2        Booz scooters   \n",
       "2        1         3  Heart up my Sleeves   \n",
       "3        2         4           Tagz Foods   \n",
       "4        2         5       Head and Heart   \n",
       "\n",
       "                                            idea anupam  \n",
       "0                                   Frozen Momos      N  \n",
       "1  Renting e-bike for mobility in private spaces      N  \n",
       "2                             Detachable Sleeves      Y  \n",
       "3                           Healthy Potato Chips      N  \n",
       "4                       Brain Development Course      N  "
      ]
     },
     "execution_count": 25,
     "metadata": {},
     "output_type": "execute_result"
    }
   ],
   "source": [
    "dataframe.head()"
   ]
  },
  {
   "cell_type": "code",
   "execution_count": 26,
   "id": "790829c1",
   "metadata": {
    "execution": {
     "iopub.execute_input": "2022-03-03T08:16:25.849163Z",
     "iopub.status.busy": "2022-03-03T08:16:25.848502Z",
     "iopub.status.idle": "2022-03-03T08:16:25.857446Z",
     "shell.execute_reply": "2022-03-03T08:16:25.857979Z",
     "shell.execute_reply.started": "2022-03-03T08:09:28.423356Z"
    },
    "papermill": {
     "duration": 0.052773,
     "end_time": "2022-03-03T08:16:25.858161",
     "exception": false,
     "start_time": "2022-03-03T08:16:25.805388",
     "status": "completed"
    },
    "tags": []
   },
   "outputs": [
    {
     "data": {
      "text/html": [
       "<div>\n",
       "<style scoped>\n",
       "    .dataframe tbody tr th:only-of-type {\n",
       "        vertical-align: middle;\n",
       "    }\n",
       "\n",
       "    .dataframe tbody tr th {\n",
       "        vertical-align: top;\n",
       "    }\n",
       "\n",
       "    .dataframe thead th {\n",
       "        text-align: right;\n",
       "    }\n",
       "</style>\n",
       "<table border=\"1\" class=\"dataframe\">\n",
       "  <thead>\n",
       "    <tr style=\"text-align: right;\">\n",
       "      <th></th>\n",
       "      <th>episode</th>\n",
       "      <th>pitch_no</th>\n",
       "      <th>company</th>\n",
       "      <th>idea</th>\n",
       "      <th>anupam</th>\n",
       "    </tr>\n",
       "  </thead>\n",
       "  <tbody>\n",
       "  </tbody>\n",
       "</table>\n",
       "</div>"
      ],
      "text/plain": [
       "Empty DataFrame\n",
       "Columns: [episode, pitch_no, company, idea, anupam]\n",
       "Index: []"
      ]
     },
     "execution_count": 26,
     "metadata": {},
     "output_type": "execute_result"
    }
   ],
   "source": [
    "dataframe[(dataframe[\"pitch_no\"]==67)&(dataframe[\"episode\"]==\"name\")]"
   ]
  },
  {
   "cell_type": "code",
   "execution_count": 27,
   "id": "d9491a8b",
   "metadata": {
    "execution": {
     "iopub.execute_input": "2022-03-03T08:16:25.943821Z",
     "iopub.status.busy": "2022-03-03T08:16:25.943134Z",
     "iopub.status.idle": "2022-03-03T08:16:25.948366Z",
     "shell.execute_reply": "2022-03-03T08:16:25.948962Z",
     "shell.execute_reply.started": "2022-03-03T08:10:22.100792Z"
    },
    "papermill": {
     "duration": 0.049544,
     "end_time": "2022-03-03T08:16:25.949129",
     "exception": false,
     "start_time": "2022-03-03T08:16:25.899585",
     "status": "completed"
    },
    "tags": []
   },
   "outputs": [
    {
     "data": {
      "text/plain": [
       "array([  1,   2,   3,   4,   5,   6,   7,   8,   9,  10,  11,  12,  13,\n",
       "        14,  15,  16,  17,  18,  19,  20,  21,  22,  23,  24,  25,  26,\n",
       "        27,  28,  29,  30,  31,  32,  33,  34,  35,  36,  37,  38,  39,\n",
       "        40,  41,  42,  43,  44,  45,  46,  47,  48,  49,  50,  51,  52,\n",
       "        53,  54,  55,  56,  57,  58,  59,  60,  61,  62,  63,  64,  65,\n",
       "        66,  67,  68,  69,  70,  71,  72,  73,  74,  75,  76,  77,  78,\n",
       "        79,  80,  81,  82,  83,  84,  85,  86,  87,  88,  89,  90,  91,\n",
       "        92,  93,  94,  95,  96,  97,  98,  99, 100, 101, 102, 103, 104,\n",
       "       105, 106, 107, 108, 109, 110, 111, 112, 113, 114, 115, 116, 117])"
      ]
     },
     "execution_count": 27,
     "metadata": {},
     "output_type": "execute_result"
    }
   ],
   "source": [
    "dataframe[\"pitch_no\"].unique()"
   ]
  },
  {
   "cell_type": "code",
   "execution_count": 28,
   "id": "4d8b8843",
   "metadata": {
    "execution": {
     "iopub.execute_input": "2022-03-03T08:16:26.036698Z",
     "iopub.status.busy": "2022-03-03T08:16:26.036090Z",
     "iopub.status.idle": "2022-03-03T08:16:26.041798Z",
     "shell.execute_reply": "2022-03-03T08:16:26.042320Z",
     "shell.execute_reply.started": "2022-03-03T08:15:43.263701Z"
    },
    "papermill": {
     "duration": 0.050758,
     "end_time": "2022-03-03T08:16:26.042496",
     "exception": false,
     "start_time": "2022-03-03T08:16:25.991738",
     "status": "completed"
    },
    "tags": []
   },
   "outputs": [
    {
     "data": {
      "text/plain": [
       "episode      int64\n",
       "pitch_no     int64\n",
       "company     object\n",
       "idea        object\n",
       "anupam      object\n",
       "dtype: object"
      ]
     },
     "execution_count": 28,
     "metadata": {},
     "output_type": "execute_result"
    }
   ],
   "source": [
    "dataframe.dtypes"
   ]
  },
  {
   "cell_type": "code",
   "execution_count": null,
   "id": "a52525b1",
   "metadata": {
    "papermill": {
     "duration": 0.04177,
     "end_time": "2022-03-03T08:16:26.127362",
     "exception": false,
     "start_time": "2022-03-03T08:16:26.085592",
     "status": "completed"
    },
    "tags": []
   },
   "outputs": [],
   "source": []
  }
 ],
 "metadata": {
  "kernelspec": {
   "display_name": "Python 3",
   "language": "python",
   "name": "python3"
  },
  "language_info": {
   "codemirror_mode": {
    "name": "ipython",
    "version": 3
   },
   "file_extension": ".py",
   "mimetype": "text/x-python",
   "name": "python",
   "nbconvert_exporter": "python",
   "pygments_lexer": "ipython3",
   "version": "3.7.12"
  },
  "papermill": {
   "default_parameters": {},
   "duration": 14.099829,
   "end_time": "2022-03-03T08:16:26.879212",
   "environment_variables": {},
   "exception": null,
   "input_path": "__notebook__.ipynb",
   "output_path": "__notebook__.ipynb",
   "parameters": {},
   "start_time": "2022-03-03T08:16:12.779383",
   "version": "2.3.3"
  }
 },
 "nbformat": 4,
 "nbformat_minor": 5
}
