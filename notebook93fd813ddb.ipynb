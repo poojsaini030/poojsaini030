{
 "cells": [
  {
   "cell_type": "code",
   "execution_count": 1,
   "id": "338e4b00",
   "metadata": {
    "_cell_guid": "b1076dfc-b9ad-4769-8c92-a6c4dae69d19",
    "_uuid": "8f2839f25d086af736a60e9eeb907d3b93b6e0e5",
    "execution": {
     "iopub.execute_input": "2022-02-25T15:49:32.056845Z",
     "iopub.status.busy": "2022-02-25T15:49:32.054131Z",
     "iopub.status.idle": "2022-02-25T15:49:32.072730Z",
     "shell.execute_reply": "2022-02-25T15:49:32.073228Z",
     "shell.execute_reply.started": "2022-02-25T15:06:04.675572Z"
    },
    "papermill": {
     "duration": 0.044756,
     "end_time": "2022-02-25T15:49:32.073526",
     "exception": false,
     "start_time": "2022-02-25T15:49:32.028770",
     "status": "completed"
    },
    "tags": []
   },
   "outputs": [
    {
     "name": "stdout",
     "output_type": "stream",
     "text": [
      "/kaggle/input/shark-tank-india-companies/dataset.csv\n"
     ]
    }
   ],
   "source": [
    "# This Python 3 environment comes with many helpful analytics libraries installed\n",
    "# It is defined by the kaggle/python Docker image: https://github.com/kaggle/docker-python\n",
    "# For example, here's several helpful packages to load\n",
    "\n",
    "import numpy as np # linear algebra\n",
    "import pandas as pd # data processing, CSV file I/O (e.g. pd.read_csv)\n",
    "\n",
    "# Input data files are available in the read-only \"../input/\" directory\n",
    "# For example, running this (by clicking run or pressing Shift+Enter) will list all files under the input directory\n",
    "\n",
    "import os\n",
    "for dirname, _, filenames in os.walk('/kaggle/input'):\n",
    "    for filename in filenames:\n",
    "        print(os.path.join(dirname, filename))\n",
    "\n",
    "# You can write up to 20GB to the current directory (/kaggle/working/) that gets preserved as output when you create a version using \"Save & Run All\" \n",
    "# You can also write temporary files to /kaggle/temp/, but they won't be saved outside of the current session"
   ]
  },
  {
   "cell_type": "code",
   "execution_count": 2,
   "id": "ca42c30b",
   "metadata": {
    "execution": {
     "iopub.execute_input": "2022-02-25T15:49:32.110911Z",
     "iopub.status.busy": "2022-02-25T15:49:32.110301Z",
     "iopub.status.idle": "2022-02-25T15:49:32.144902Z",
     "shell.execute_reply": "2022-02-25T15:49:32.145404Z",
     "shell.execute_reply.started": "2022-02-25T15:08:10.815352Z"
    },
    "papermill": {
     "duration": 0.054423,
     "end_time": "2022-02-25T15:49:32.145570",
     "exception": false,
     "start_time": "2022-02-25T15:49:32.091147",
     "status": "completed"
    },
    "tags": []
   },
   "outputs": [
    {
     "data": {
      "text/html": [
       "<div>\n",
       "<style scoped>\n",
       "    .dataframe tbody tr th:only-of-type {\n",
       "        vertical-align: middle;\n",
       "    }\n",
       "\n",
       "    .dataframe tbody tr th {\n",
       "        vertical-align: top;\n",
       "    }\n",
       "\n",
       "    .dataframe thead th {\n",
       "        text-align: right;\n",
       "    }\n",
       "</style>\n",
       "<table border=\"1\" class=\"dataframe\">\n",
       "  <thead>\n",
       "    <tr style=\"text-align: right;\">\n",
       "      <th></th>\n",
       "      <th>episode</th>\n",
       "      <th>pitch_no</th>\n",
       "      <th>company</th>\n",
       "      <th>idea</th>\n",
       "      <th>deal</th>\n",
       "      <th>ashneer</th>\n",
       "      <th>namita</th>\n",
       "      <th>anupam</th>\n",
       "      <th>vineeta</th>\n",
       "      <th>aman</th>\n",
       "      <th>peyush</th>\n",
       "      <th>ghazal</th>\n",
       "    </tr>\n",
       "  </thead>\n",
       "  <tbody>\n",
       "    <tr>\n",
       "      <th>0</th>\n",
       "      <td>1</td>\n",
       "      <td>1</td>\n",
       "      <td>BluePine Industries</td>\n",
       "      <td>Frozen Momos</td>\n",
       "      <td>75 lakhs for 18% equity</td>\n",
       "      <td>Y</td>\n",
       "      <td>N</td>\n",
       "      <td>N</td>\n",
       "      <td>Y</td>\n",
       "      <td>Y</td>\n",
       "      <td>NaN</td>\n",
       "      <td>NaN</td>\n",
       "    </tr>\n",
       "    <tr>\n",
       "      <th>1</th>\n",
       "      <td>1</td>\n",
       "      <td>2</td>\n",
       "      <td>Booz scooters</td>\n",
       "      <td>Renting e-bike for mobility in private spaces</td>\n",
       "      <td>40 lakhs for 50% equity</td>\n",
       "      <td>Y</td>\n",
       "      <td>N</td>\n",
       "      <td>N</td>\n",
       "      <td>Y</td>\n",
       "      <td>N</td>\n",
       "      <td>NaN</td>\n",
       "      <td>NaN</td>\n",
       "    </tr>\n",
       "    <tr>\n",
       "      <th>2</th>\n",
       "      <td>1</td>\n",
       "      <td>3</td>\n",
       "      <td>Heart up my Sleeves</td>\n",
       "      <td>Detachable Sleeves</td>\n",
       "      <td>25 lakhs for 30% equity</td>\n",
       "      <td>N</td>\n",
       "      <td>N</td>\n",
       "      <td>Y</td>\n",
       "      <td>Y</td>\n",
       "      <td>N</td>\n",
       "      <td>NaN</td>\n",
       "      <td>NaN</td>\n",
       "    </tr>\n",
       "    <tr>\n",
       "      <th>3</th>\n",
       "      <td>2</td>\n",
       "      <td>4</td>\n",
       "      <td>Tagz Foods</td>\n",
       "      <td>Healthy Potato Chips</td>\n",
       "      <td>No Deal</td>\n",
       "      <td>Y</td>\n",
       "      <td>N</td>\n",
       "      <td>N</td>\n",
       "      <td>N</td>\n",
       "      <td>N</td>\n",
       "      <td>NaN</td>\n",
       "      <td>NaN</td>\n",
       "    </tr>\n",
       "    <tr>\n",
       "      <th>4</th>\n",
       "      <td>2</td>\n",
       "      <td>5</td>\n",
       "      <td>Head and Heart</td>\n",
       "      <td>Brain Development Course</td>\n",
       "      <td>No Deal</td>\n",
       "      <td>N</td>\n",
       "      <td>N</td>\n",
       "      <td>N</td>\n",
       "      <td>N</td>\n",
       "      <td>N</td>\n",
       "      <td>NaN</td>\n",
       "      <td>NaN</td>\n",
       "    </tr>\n",
       "  </tbody>\n",
       "</table>\n",
       "</div>"
      ],
      "text/plain": [
       "   episode  pitch_no              company  \\\n",
       "0        1         1  BluePine Industries   \n",
       "1        1         2        Booz scooters   \n",
       "2        1         3  Heart up my Sleeves   \n",
       "3        2         4           Tagz Foods   \n",
       "4        2         5       Head and Heart   \n",
       "\n",
       "                                            idea                     deal  \\\n",
       "0                                   Frozen Momos  75 lakhs for 18% equity   \n",
       "1  Renting e-bike for mobility in private spaces  40 lakhs for 50% equity   \n",
       "2                             Detachable Sleeves  25 lakhs for 30% equity   \n",
       "3                           Healthy Potato Chips                  No Deal   \n",
       "4                       Brain Development Course                  No Deal   \n",
       "\n",
       "  ashneer namita anupam vineeta aman peyush ghazal  \n",
       "0       Y      N      N       Y    Y    NaN    NaN  \n",
       "1       Y      N      N       Y    N    NaN    NaN  \n",
       "2       N      N      Y       Y    N    NaN    NaN  \n",
       "3       Y      N      N       N    N    NaN    NaN  \n",
       "4       N      N      N       N    N    NaN    NaN  "
      ]
     },
     "execution_count": 2,
     "metadata": {},
     "output_type": "execute_result"
    }
   ],
   "source": [
    "dataframe = pd.read_csv('/kaggle/input/shark-tank-india-companies/dataset.csv')\n",
    "dataframe.head()"
   ]
  },
  {
   "cell_type": "code",
   "execution_count": 3,
   "id": "8d834773",
   "metadata": {
    "execution": {
     "iopub.execute_input": "2022-02-25T15:49:32.184194Z",
     "iopub.status.busy": "2022-02-25T15:49:32.183486Z",
     "iopub.status.idle": "2022-02-25T15:49:32.188047Z",
     "shell.execute_reply": "2022-02-25T15:49:32.188630Z",
     "shell.execute_reply.started": "2022-02-25T15:12:05.326356Z"
    },
    "papermill": {
     "duration": 0.025544,
     "end_time": "2022-02-25T15:49:32.188797",
     "exception": false,
     "start_time": "2022-02-25T15:49:32.163253",
     "status": "completed"
    },
    "tags": []
   },
   "outputs": [
    {
     "data": {
      "text/plain": [
       "(117, 12)"
      ]
     },
     "execution_count": 3,
     "metadata": {},
     "output_type": "execute_result"
    }
   ],
   "source": [
    "dataframe.shape"
   ]
  },
  {
   "cell_type": "code",
   "execution_count": 4,
   "id": "944fb25c",
   "metadata": {
    "execution": {
     "iopub.execute_input": "2022-02-25T15:49:32.232096Z",
     "iopub.status.busy": "2022-02-25T15:49:32.231285Z",
     "iopub.status.idle": "2022-02-25T15:49:32.234087Z",
     "shell.execute_reply": "2022-02-25T15:49:32.234638Z",
     "shell.execute_reply.started": "2022-02-25T15:18:16.116106Z"
    },
    "papermill": {
     "duration": 0.028021,
     "end_time": "2022-02-25T15:49:32.234817",
     "exception": false,
     "start_time": "2022-02-25T15:49:32.206796",
     "status": "completed"
    },
    "tags": []
   },
   "outputs": [
    {
     "data": {
      "text/plain": [
       "episode      int64\n",
       "pitch_no     int64\n",
       "company     object\n",
       "idea        object\n",
       "deal        object\n",
       "ashneer     object\n",
       "namita      object\n",
       "anupam      object\n",
       "vineeta     object\n",
       "aman        object\n",
       "peyush      object\n",
       "ghazal      object\n",
       "dtype: object"
      ]
     },
     "execution_count": 4,
     "metadata": {},
     "output_type": "execute_result"
    }
   ],
   "source": [
    "dataframe.dtypes"
   ]
  },
  {
   "cell_type": "code",
   "execution_count": 5,
   "id": "3c23a761",
   "metadata": {
    "execution": {
     "iopub.execute_input": "2022-02-25T15:49:32.278150Z",
     "iopub.status.busy": "2022-02-25T15:49:32.277385Z",
     "iopub.status.idle": "2022-02-25T15:49:32.318743Z",
     "shell.execute_reply": "2022-02-25T15:49:32.319667Z",
     "shell.execute_reply.started": "2022-02-25T15:19:14.560404Z"
    },
    "papermill": {
     "duration": 0.06646,
     "end_time": "2022-02-25T15:49:32.319915",
     "exception": false,
     "start_time": "2022-02-25T15:49:32.253455",
     "status": "completed"
    },
    "tags": []
   },
   "outputs": [
    {
     "data": {
      "text/html": [
       "<div>\n",
       "<style scoped>\n",
       "    .dataframe tbody tr th:only-of-type {\n",
       "        vertical-align: middle;\n",
       "    }\n",
       "\n",
       "    .dataframe tbody tr th {\n",
       "        vertical-align: top;\n",
       "    }\n",
       "\n",
       "    .dataframe thead th {\n",
       "        text-align: right;\n",
       "    }\n",
       "</style>\n",
       "<table border=\"1\" class=\"dataframe\">\n",
       "  <thead>\n",
       "    <tr style=\"text-align: right;\">\n",
       "      <th></th>\n",
       "      <th>company</th>\n",
       "      <th>idea</th>\n",
       "      <th>deal</th>\n",
       "      <th>ashneer</th>\n",
       "      <th>namita</th>\n",
       "      <th>anupam</th>\n",
       "      <th>vineeta</th>\n",
       "      <th>aman</th>\n",
       "      <th>peyush</th>\n",
       "      <th>ghazal</th>\n",
       "    </tr>\n",
       "  </thead>\n",
       "  <tbody>\n",
       "    <tr>\n",
       "      <th>count</th>\n",
       "      <td>117</td>\n",
       "      <td>117</td>\n",
       "      <td>117</td>\n",
       "      <td>98</td>\n",
       "      <td>106</td>\n",
       "      <td>117</td>\n",
       "      <td>66</td>\n",
       "      <td>98</td>\n",
       "      <td>88</td>\n",
       "      <td>26</td>\n",
       "    </tr>\n",
       "    <tr>\n",
       "      <th>unique</th>\n",
       "      <td>117</td>\n",
       "      <td>117</td>\n",
       "      <td>41</td>\n",
       "      <td>2</td>\n",
       "      <td>2</td>\n",
       "      <td>2</td>\n",
       "      <td>2</td>\n",
       "      <td>2</td>\n",
       "      <td>2</td>\n",
       "      <td>2</td>\n",
       "    </tr>\n",
       "    <tr>\n",
       "      <th>top</th>\n",
       "      <td>BluePine Industries</td>\n",
       "      <td>Frozen Momos</td>\n",
       "      <td>No Deal</td>\n",
       "      <td>N</td>\n",
       "      <td>N</td>\n",
       "      <td>N</td>\n",
       "      <td>N</td>\n",
       "      <td>N</td>\n",
       "      <td>N</td>\n",
       "      <td>N</td>\n",
       "    </tr>\n",
       "    <tr>\n",
       "      <th>freq</th>\n",
       "      <td>1</td>\n",
       "      <td>1</td>\n",
       "      <td>75</td>\n",
       "      <td>77</td>\n",
       "      <td>84</td>\n",
       "      <td>93</td>\n",
       "      <td>51</td>\n",
       "      <td>70</td>\n",
       "      <td>61</td>\n",
       "      <td>19</td>\n",
       "    </tr>\n",
       "  </tbody>\n",
       "</table>\n",
       "</div>"
      ],
      "text/plain": [
       "                    company          idea     deal ashneer namita anupam  \\\n",
       "count                   117           117      117      98    106    117   \n",
       "unique                  117           117       41       2      2      2   \n",
       "top     BluePine Industries  Frozen Momos  No Deal       N      N      N   \n",
       "freq                      1             1       75      77     84     93   \n",
       "\n",
       "       vineeta aman peyush ghazal  \n",
       "count       66   98     88     26  \n",
       "unique       2    2      2      2  \n",
       "top          N    N      N      N  \n",
       "freq        51   70     61     19  "
      ]
     },
     "execution_count": 5,
     "metadata": {},
     "output_type": "execute_result"
    }
   ],
   "source": [
    "dataframe.describe(include=\"object\")"
   ]
  },
  {
   "cell_type": "code",
   "execution_count": 6,
   "id": "d32c79d6",
   "metadata": {
    "execution": {
     "iopub.execute_input": "2022-02-25T15:49:32.377409Z",
     "iopub.status.busy": "2022-02-25T15:49:32.376371Z",
     "iopub.status.idle": "2022-02-25T15:49:32.396083Z",
     "shell.execute_reply": "2022-02-25T15:49:32.396721Z",
     "shell.execute_reply.started": "2022-02-25T15:19:43.232252Z"
    },
    "papermill": {
     "duration": 0.047186,
     "end_time": "2022-02-25T15:49:32.396896",
     "exception": false,
     "start_time": "2022-02-25T15:49:32.349710",
     "status": "completed"
    },
    "tags": []
   },
   "outputs": [
    {
     "data": {
      "text/html": [
       "<div>\n",
       "<style scoped>\n",
       "    .dataframe tbody tr th:only-of-type {\n",
       "        vertical-align: middle;\n",
       "    }\n",
       "\n",
       "    .dataframe tbody tr th {\n",
       "        vertical-align: top;\n",
       "    }\n",
       "\n",
       "    .dataframe thead th {\n",
       "        text-align: right;\n",
       "    }\n",
       "</style>\n",
       "<table border=\"1\" class=\"dataframe\">\n",
       "  <thead>\n",
       "    <tr style=\"text-align: right;\">\n",
       "      <th></th>\n",
       "      <th>episode</th>\n",
       "      <th>pitch_no</th>\n",
       "    </tr>\n",
       "  </thead>\n",
       "  <tbody>\n",
       "    <tr>\n",
       "      <th>count</th>\n",
       "      <td>117.000000</td>\n",
       "      <td>117.000000</td>\n",
       "    </tr>\n",
       "    <tr>\n",
       "      <th>mean</th>\n",
       "      <td>18.735043</td>\n",
       "      <td>59.000000</td>\n",
       "    </tr>\n",
       "    <tr>\n",
       "      <th>std</th>\n",
       "      <td>10.070778</td>\n",
       "      <td>33.919021</td>\n",
       "    </tr>\n",
       "    <tr>\n",
       "      <th>min</th>\n",
       "      <td>1.000000</td>\n",
       "      <td>1.000000</td>\n",
       "    </tr>\n",
       "    <tr>\n",
       "      <th>25%</th>\n",
       "      <td>10.000000</td>\n",
       "      <td>30.000000</td>\n",
       "    </tr>\n",
       "    <tr>\n",
       "      <th>50%</th>\n",
       "      <td>19.000000</td>\n",
       "      <td>59.000000</td>\n",
       "    </tr>\n",
       "    <tr>\n",
       "      <th>75%</th>\n",
       "      <td>27.000000</td>\n",
       "      <td>88.000000</td>\n",
       "    </tr>\n",
       "    <tr>\n",
       "      <th>max</th>\n",
       "      <td>35.000000</td>\n",
       "      <td>117.000000</td>\n",
       "    </tr>\n",
       "  </tbody>\n",
       "</table>\n",
       "</div>"
      ],
      "text/plain": [
       "          episode    pitch_no\n",
       "count  117.000000  117.000000\n",
       "mean    18.735043   59.000000\n",
       "std     10.070778   33.919021\n",
       "min      1.000000    1.000000\n",
       "25%     10.000000   30.000000\n",
       "50%     19.000000   59.000000\n",
       "75%     27.000000   88.000000\n",
       "max     35.000000  117.000000"
      ]
     },
     "execution_count": 6,
     "metadata": {},
     "output_type": "execute_result"
    }
   ],
   "source": [
    "dataframe.describe()"
   ]
  },
  {
   "cell_type": "code",
   "execution_count": 7,
   "id": "7f1d2adf",
   "metadata": {
    "execution": {
     "iopub.execute_input": "2022-02-25T15:49:32.440351Z",
     "iopub.status.busy": "2022-02-25T15:49:32.439348Z",
     "iopub.status.idle": "2022-02-25T15:49:32.444096Z",
     "shell.execute_reply": "2022-02-25T15:49:32.444576Z",
     "shell.execute_reply.started": "2022-02-25T15:24:36.620373Z"
    },
    "papermill": {
     "duration": 0.028267,
     "end_time": "2022-02-25T15:49:32.444775",
     "exception": false,
     "start_time": "2022-02-25T15:49:32.416508",
     "status": "completed"
    },
    "tags": []
   },
   "outputs": [],
   "source": [
    "dataframe.drop(columns = [\"deal\"],inplace = True)"
   ]
  },
  {
   "cell_type": "code",
   "execution_count": 8,
   "id": "6bfb024b",
   "metadata": {
    "execution": {
     "iopub.execute_input": "2022-02-25T15:49:32.486816Z",
     "iopub.status.busy": "2022-02-25T15:49:32.486182Z",
     "iopub.status.idle": "2022-02-25T15:49:32.498961Z",
     "shell.execute_reply": "2022-02-25T15:49:32.499478Z",
     "shell.execute_reply.started": "2022-02-25T15:28:59.790006Z"
    },
    "papermill": {
     "duration": 0.035361,
     "end_time": "2022-02-25T15:49:32.499656",
     "exception": false,
     "start_time": "2022-02-25T15:49:32.464295",
     "status": "completed"
    },
    "tags": []
   },
   "outputs": [
    {
     "data": {
      "text/plain": [
       "(117, 5)"
      ]
     },
     "execution_count": 8,
     "metadata": {},
     "output_type": "execute_result"
    }
   ],
   "source": [
    "for i in dataframe.columns:\n",
    "    if dataframe[i].isnull().sum()>=7:\n",
    "        dataframe.drop(columns= [i],inplace=True)\n",
    "dataframe.shape"
   ]
  },
  {
   "cell_type": "code",
   "execution_count": 9,
   "id": "75988fec",
   "metadata": {
    "execution": {
     "iopub.execute_input": "2022-02-25T15:49:32.542234Z",
     "iopub.status.busy": "2022-02-25T15:49:32.541634Z",
     "iopub.status.idle": "2022-02-25T15:49:32.548504Z",
     "shell.execute_reply": "2022-02-25T15:49:32.549021Z",
     "shell.execute_reply.started": "2022-02-25T15:30:53.270902Z"
    },
    "papermill": {
     "duration": 0.029612,
     "end_time": "2022-02-25T15:49:32.549185",
     "exception": false,
     "start_time": "2022-02-25T15:49:32.519573",
     "status": "completed"
    },
    "tags": []
   },
   "outputs": [
    {
     "data": {
      "text/plain": [
       "Series([], dtype: int64)"
      ]
     },
     "execution_count": 9,
     "metadata": {},
     "output_type": "execute_result"
    }
   ],
   "source": [
    "dataframe.isna().sum()[40:50]"
   ]
  },
  {
   "cell_type": "code",
   "execution_count": 10,
   "id": "8b8fe5f1",
   "metadata": {
    "execution": {
     "iopub.execute_input": "2022-02-25T15:49:32.598026Z",
     "iopub.status.busy": "2022-02-25T15:49:32.597362Z",
     "iopub.status.idle": "2022-02-25T15:49:32.600777Z",
     "shell.execute_reply": "2022-02-25T15:49:32.601205Z",
     "shell.execute_reply.started": "2022-02-25T15:32:58.257781Z"
    },
    "papermill": {
     "duration": 0.031857,
     "end_time": "2022-02-25T15:49:32.601365",
     "exception": false,
     "start_time": "2022-02-25T15:49:32.569508",
     "status": "completed"
    },
    "tags": []
   },
   "outputs": [
    {
     "data": {
      "text/plain": [
       "(117, 5)"
      ]
     },
     "execution_count": 10,
     "metadata": {},
     "output_type": "execute_result"
    }
   ],
   "source": [
    "dataframe.dropna(axis=1, inplace=True)\n",
    "dataframe.shape"
   ]
  },
  {
   "cell_type": "code",
   "execution_count": 11,
   "id": "9a7dccfa",
   "metadata": {
    "execution": {
     "iopub.execute_input": "2022-02-25T15:49:32.651876Z",
     "iopub.status.busy": "2022-02-25T15:49:32.651253Z",
     "iopub.status.idle": "2022-02-25T15:49:32.653653Z",
     "shell.execute_reply": "2022-02-25T15:49:32.654229Z",
     "shell.execute_reply.started": "2022-02-25T15:33:44.666773Z"
    },
    "papermill": {
     "duration": 0.032311,
     "end_time": "2022-02-25T15:49:32.654379",
     "exception": false,
     "start_time": "2022-02-25T15:49:32.622068",
     "status": "completed"
    },
    "tags": []
   },
   "outputs": [
    {
     "data": {
      "text/plain": [
       "episode     0.0\n",
       "pitch_no    0.0\n",
       "company     0.0\n",
       "idea        0.0\n",
       "anupam      0.0\n",
       "dtype: float64"
      ]
     },
     "execution_count": 11,
     "metadata": {},
     "output_type": "execute_result"
    }
   ],
   "source": [
    "(dataframe.isnull().sum()/dataframe.shape[0])*100"
   ]
  },
  {
   "cell_type": "code",
   "execution_count": 12,
   "id": "374055f7",
   "metadata": {
    "execution": {
     "iopub.execute_input": "2022-02-25T15:49:32.704067Z",
     "iopub.status.busy": "2022-02-25T15:49:32.700665Z",
     "iopub.status.idle": "2022-02-25T15:49:32.706426Z",
     "shell.execute_reply": "2022-02-25T15:49:32.706995Z",
     "shell.execute_reply.started": "2022-02-25T15:36:52.719565Z"
    },
    "papermill": {
     "duration": 0.03166,
     "end_time": "2022-02-25T15:49:32.707159",
     "exception": false,
     "start_time": "2022-02-25T15:49:32.675499",
     "status": "completed"
    },
    "tags": []
   },
   "outputs": [
    {
     "data": {
      "text/plain": [
       "(array([], dtype=int64),)"
      ]
     },
     "execution_count": 12,
     "metadata": {},
     "output_type": "execute_result"
    }
   ],
   "source": [
    "np.where(dataframe[\"company\"].isnull()==True)"
   ]
  },
  {
   "cell_type": "code",
   "execution_count": 13,
   "id": "d4ef00d7",
   "metadata": {
    "execution": {
     "iopub.execute_input": "2022-02-25T15:49:32.756542Z",
     "iopub.status.busy": "2022-02-25T15:49:32.755949Z",
     "iopub.status.idle": "2022-02-25T15:49:32.757282Z",
     "shell.execute_reply": "2022-02-25T15:49:32.757873Z",
     "shell.execute_reply.started": "2022-02-25T15:37:30.698170Z"
    },
    "papermill": {
     "duration": 0.029576,
     "end_time": "2022-02-25T15:49:32.758032",
     "exception": false,
     "start_time": "2022-02-25T15:49:32.728456",
     "status": "completed"
    },
    "tags": []
   },
   "outputs": [],
   "source": [
    "missing= dataframe.iloc[np.where(dataframe[\"company\"].isnull()==True)]"
   ]
  },
  {
   "cell_type": "code",
   "execution_count": 14,
   "id": "62d7bc5b",
   "metadata": {
    "execution": {
     "iopub.execute_input": "2022-02-25T15:49:32.807887Z",
     "iopub.status.busy": "2022-02-25T15:49:32.807118Z",
     "iopub.status.idle": "2022-02-25T15:49:32.811455Z",
     "shell.execute_reply": "2022-02-25T15:49:32.810934Z",
     "shell.execute_reply.started": "2022-02-25T15:39:02.566473Z"
    },
    "papermill": {
     "duration": 0.032164,
     "end_time": "2022-02-25T15:49:32.811588",
     "exception": false,
     "start_time": "2022-02-25T15:49:32.779424",
     "status": "completed"
    },
    "tags": []
   },
   "outputs": [
    {
     "data": {
      "text/plain": [
       "array(['Frozen Momos', 'Renting e-bike for mobility in private spaces',\n",
       "       'Detachable Sleeves', 'Healthy Potato Chips',\n",
       "       'Brain Development Course', 'Tourism', 'Food Freshness Detector',\n",
       "       'Disposable Urine Bag', 'Energy Drink', 'Intelligent Skincare',\n",
       "       'Pickle', 'Underwear', 'E-Bike',\n",
       "       'Restaurant serving 80 types of Maggi', 'Belly Button Shaper',\n",
       "       'Ice-Pops', 'Menstrual Awareness Comic',\n",
       "       'Pollution Resistant Fabric', 'Child Development App',\n",
       "       'Gadgets for visually impaired people',\n",
       "       'Kheer in variety of flavors', 'Kerala Banana Chips',\n",
       "       'Prickless Diabetes Testing Machine', 'Smart Electric Motorcycle',\n",
       "       'Smart Helmets', 'Wooden Toys', 'Healthy Oils',\n",
       "       'Male Intimate Hygiene', 'Eggs', 'Student Community App',\n",
       "       'Fiber Ice Cream', 'Wall Building', 'Customised Streetwear',\n",
       "       'Ayurvedic Products', 'Indian Sweets', 'Metaverse App',\n",
       "       'Braille Literary Device', 'Eco-Friendly boxes',\n",
       "       'Yarn-Trading App', 'Home Dialysis Treatment',\n",
       "       'Healthy Food Snacks', 'Digital Piggy Bank',\n",
       "       'Smart Audio Products', 'Robotics and Automation Solutions',\n",
       "       'Coconut based beverage franchise', 'Bamboo Products',\n",
       "       'Dog Hygiene', 'Liquid Water Enhancer', 'Healthy Snacks',\n",
       "       'Sneaker Resale', 'EdTech App', 'Premium Surprise-Planning',\n",
       "       'Pothole Detection Software and Data', 'Thin Crust Pizza',\n",
       "       'Hemp Food Products', 'Electric Auto Vehicle', 'Funeral Service',\n",
       "       'Leather-free Shoes', 'Livestock health monitoring AI',\n",
       "       'Customised Keto Diets for various medical issues',\n",
       "       'LPG Cylinder lock', 'Delicacies', 'Comics & Animation',\n",
       "       'Can Cocktails', 'Sugar-Free Icecream', 'Inventions',\n",
       "       'Customised Apparels', 'Natural Hair Extensions',\n",
       "       'Toilet Spray with Essential Oils', 'Meads', 'Fresh Fruits',\n",
       "       'Ayurvedic Enriched Food', 'Streetwear', 'Motorcycle Luggage',\n",
       "       'Bags', 'Gifts', 'Agricultural Innovations', 'Homemade Foods',\n",
       "       'Dog Products', 'Portable ECG Device', 'Roasted Peanut Products',\n",
       "       'Perfumes', 'Automatic Cradle', 'Handicrafts', 'Coffee Products',\n",
       "       'Ventilated PPE Kits', 'Automation Solutions',\n",
       "       'Insurance Solutions', 'Organic Milk Products', 'Kunafa',\n",
       "       'Anti-Suicidal Fan Rod', 'Jackfruit Products',\n",
       "       'Stainless Steel Items', 'Streaming Platform',\n",
       "       'Portable Glass Attachment', 'All-Kabaddi App', 'Flowers',\n",
       "       'Scholarship Platform', 'Handmade Reusable Scrap Materials',\n",
       "       'Vegetables Storage', 'Ayurvedic Wellness App', 'Smart Locks',\n",
       "       'Proposal Solutions', 'Technology layered advertisement services',\n",
       "       'Rewards App', 'Portable opthalmic devices', 'Insoles',\n",
       "       'Vegan Fermented Food', 'Sportswear', 'VR', 'Bacon Jams',\n",
       "       'Reversible and convertible clothing', 'Plant-Based Protein',\n",
       "       'Fastest Cooking Device', 'Lemonade', 'Washroom Finder',\n",
       "       'Carenting for Elders'], dtype=object)"
      ]
     },
     "execution_count": 14,
     "metadata": {},
     "output_type": "execute_result"
    }
   ],
   "source": [
    "dataframe[\"idea\"].unique()"
   ]
  },
  {
   "cell_type": "code",
   "execution_count": 15,
   "id": "c935e482",
   "metadata": {
    "execution": {
     "iopub.execute_input": "2022-02-25T15:49:32.858426Z",
     "iopub.status.busy": "2022-02-25T15:49:32.857767Z",
     "iopub.status.idle": "2022-02-25T15:49:32.867447Z",
     "shell.execute_reply": "2022-02-25T15:49:32.867935Z",
     "shell.execute_reply.started": "2022-02-25T15:46:05.060895Z"
    },
    "papermill": {
     "duration": 0.0344,
     "end_time": "2022-02-25T15:49:32.868100",
     "exception": false,
     "start_time": "2022-02-25T15:49:32.833700",
     "status": "completed"
    },
    "tags": []
   },
   "outputs": [
    {
     "data": {
      "text/html": [
       "<div>\n",
       "<style scoped>\n",
       "    .dataframe tbody tr th:only-of-type {\n",
       "        vertical-align: middle;\n",
       "    }\n",
       "\n",
       "    .dataframe tbody tr th {\n",
       "        vertical-align: top;\n",
       "    }\n",
       "\n",
       "    .dataframe thead th {\n",
       "        text-align: right;\n",
       "    }\n",
       "</style>\n",
       "<table border=\"1\" class=\"dataframe\">\n",
       "  <thead>\n",
       "    <tr style=\"text-align: right;\">\n",
       "      <th></th>\n",
       "      <th>episode</th>\n",
       "      <th>pitch_no</th>\n",
       "      <th>company</th>\n",
       "      <th>idea</th>\n",
       "      <th>anupam</th>\n",
       "    </tr>\n",
       "  </thead>\n",
       "  <tbody>\n",
       "    <tr>\n",
       "      <th>0</th>\n",
       "      <td>1</td>\n",
       "      <td>1</td>\n",
       "      <td>BluePine Industries</td>\n",
       "      <td>Frozen Momos</td>\n",
       "      <td>N</td>\n",
       "    </tr>\n",
       "    <tr>\n",
       "      <th>1</th>\n",
       "      <td>1</td>\n",
       "      <td>2</td>\n",
       "      <td>Booz scooters</td>\n",
       "      <td>Renting e-bike for mobility in private spaces</td>\n",
       "      <td>N</td>\n",
       "    </tr>\n",
       "    <tr>\n",
       "      <th>2</th>\n",
       "      <td>1</td>\n",
       "      <td>3</td>\n",
       "      <td>Heart up my Sleeves</td>\n",
       "      <td>Detachable Sleeves</td>\n",
       "      <td>Y</td>\n",
       "    </tr>\n",
       "    <tr>\n",
       "      <th>3</th>\n",
       "      <td>2</td>\n",
       "      <td>4</td>\n",
       "      <td>Tagz Foods</td>\n",
       "      <td>Healthy Potato Chips</td>\n",
       "      <td>N</td>\n",
       "    </tr>\n",
       "    <tr>\n",
       "      <th>4</th>\n",
       "      <td>2</td>\n",
       "      <td>5</td>\n",
       "      <td>Head and Heart</td>\n",
       "      <td>Brain Development Course</td>\n",
       "      <td>N</td>\n",
       "    </tr>\n",
       "  </tbody>\n",
       "</table>\n",
       "</div>"
      ],
      "text/plain": [
       "   episode  pitch_no              company  \\\n",
       "0        1         1  BluePine Industries   \n",
       "1        1         2        Booz scooters   \n",
       "2        1         3  Heart up my Sleeves   \n",
       "3        2         4           Tagz Foods   \n",
       "4        2         5       Head and Heart   \n",
       "\n",
       "                                            idea anupam  \n",
       "0                                   Frozen Momos      N  \n",
       "1  Renting e-bike for mobility in private spaces      N  \n",
       "2                             Detachable Sleeves      Y  \n",
       "3                           Healthy Potato Chips      N  \n",
       "4                       Brain Development Course      N  "
      ]
     },
     "execution_count": 15,
     "metadata": {},
     "output_type": "execute_result"
    }
   ],
   "source": [
    "dataframe.head()"
   ]
  },
  {
   "cell_type": "code",
   "execution_count": null,
   "id": "f8a8db2f",
   "metadata": {
    "papermill": {
     "duration": 0.022169,
     "end_time": "2022-02-25T15:49:32.913084",
     "exception": false,
     "start_time": "2022-02-25T15:49:32.890915",
     "status": "completed"
    },
    "tags": []
   },
   "outputs": [],
   "source": []
  }
 ],
 "metadata": {
  "kernelspec": {
   "display_name": "Python 3",
   "language": "python",
   "name": "python3"
  },
  "language_info": {
   "codemirror_mode": {
    "name": "ipython",
    "version": 3
   },
   "file_extension": ".py",
   "mimetype": "text/x-python",
   "name": "python",
   "nbconvert_exporter": "python",
   "pygments_lexer": "ipython3",
   "version": "3.7.12"
  },
  "papermill": {
   "default_parameters": {},
   "duration": 10.915746,
   "end_time": "2022-02-25T15:49:33.545328",
   "environment_variables": {},
   "exception": null,
   "input_path": "__notebook__.ipynb",
   "output_path": "__notebook__.ipynb",
   "parameters": {},
   "start_time": "2022-02-25T15:49:22.629582",
   "version": "2.3.3"
  }
 },
 "nbformat": 4,
 "nbformat_minor": 5
}
